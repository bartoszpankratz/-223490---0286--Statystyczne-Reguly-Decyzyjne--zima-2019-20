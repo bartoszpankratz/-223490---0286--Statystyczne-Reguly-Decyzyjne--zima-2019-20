{
 "cells": [
  {
   "cell_type": "markdown",
   "metadata": {},
   "source": [
    "# Statystyczne reguły decyzyjne - wykład 26.05.2018"
   ]
  },
  {
   "cell_type": "markdown",
   "metadata": {},
   "source": [
    "Dla osób zainteresowanych: instrukcja korzystania z języka R w notatnikach Jupyter dostępna jest [tutaj](https://irkernel.github.io/). "
   ]
  },
  {
   "cell_type": "markdown",
   "metadata": {},
   "source": [
    "## 1. Metody oceny jakości modeli klasyfikacyjnych"
   ]
  },
  {
   "cell_type": "markdown",
   "metadata": {},
   "source": [
    "Zacznijmy od prostego przykładu. Dla australijskich danych dotyczących wniosków o karty kredytowe (dostepnych [tutaj](http://archive.ics.uci.edu/ml/machine-learning-databases/statlog/australian/australian.dat)) zbudujmy model orkreślający prawdopodobieństwo decyzji o odmowie wydania karty kredytowej. Zacznijmy od odpowiedniedgo przygotowania danych:"
   ]
  },
  {
   "cell_type": "code",
   "execution_count": 13,
   "metadata": {},
   "outputs": [
    {
     "name": "stderr",
     "output_type": "stream",
     "text": [
      "Loading required package: ggplot2\n",
      "Error: package or namespace load failed for 'ggplot2' in loadNamespace(j <- i[[1L]], c(lib.loc, .libPaths()), versionCheck = vI[[j]]):\n",
      " there is no package called 'Rcpp'\n"
     ]
    },
    {
     "ename": "ERROR",
     "evalue": "Error: package 'ggplot2' could not be loaded\n",
     "output_type": "error",
     "traceback": [
      "Error: package 'ggplot2' could not be loaded\nTraceback:\n",
      "1. library(caret)",
      "2. .getRequiredPackages2(pkgInfo, quietly = quietly)",
      "3. stop(gettextf(\"package %s could not be loaded\", sQuote(pkg)), \n .     call. = FALSE, domain = NA)"
     ]
    }
   ],
   "source": [
    "setwd(\"C:/Users/p/\") #sciezka z dostepem do danych\n",
    "library(ROCR) #biblioteka do graficznych metod oceny jakosci modeli klasyfikacyjnych \n",
    "library(pscl) #biblioteka do wyliczania wartosci pseudo-r2\n",
    "library(caret) #biblioteka, ktora wykorzystujemy do wygenerowania macierzy klasyfikacji\n",
    "library(nnet) #biblioteka do tworzenia sieci neuronowych\n",
    "set.seed(1) #ustalamy stale ziarno losowe - pozwoli nam to otrzymac porownywalne wyniki"
   ]
  },
  {
   "cell_type": "code",
   "execution_count": 3,
   "metadata": {},
   "outputs": [
    {
     "data": {
      "text/html": [
       "<table>\n",
       "<thead><tr><th scope=col>A1</th><th scope=col>A2</th><th scope=col>A3</th><th scope=col>A4</th><th scope=col>A5</th><th scope=col>A6</th><th scope=col>A7</th><th scope=col>A8</th><th scope=col>A9</th><th scope=col>A10</th><th scope=col>A11</th><th scope=col>A12</th><th scope=col>A13</th><th scope=col>A14</th><th scope=col>class</th></tr></thead>\n",
       "<tbody>\n",
       "\t<tr><td>1     </td><td>22.08 </td><td>11.460</td><td>2     </td><td>4     </td><td>4     </td><td>1.585 </td><td>0     </td><td>0     </td><td> 0    </td><td>1     </td><td>2     </td><td>100   </td><td>1213  </td><td>0     </td></tr>\n",
       "\t<tr><td>0     </td><td>22.67 </td><td> 7.000</td><td>2     </td><td>8     </td><td>4     </td><td>0.165 </td><td>0     </td><td>0     </td><td> 0    </td><td>0     </td><td>2     </td><td>160   </td><td>   1  </td><td>0     </td></tr>\n",
       "\t<tr><td>0     </td><td>29.58 </td><td> 1.750</td><td>1     </td><td>4     </td><td>4     </td><td>1.250 </td><td>0     </td><td>0     </td><td> 0    </td><td>1     </td><td>2     </td><td>280   </td><td>   1  </td><td>0     </td></tr>\n",
       "\t<tr><td>0     </td><td>21.67 </td><td>11.500</td><td>1     </td><td>5     </td><td>3     </td><td>0.000 </td><td>1     </td><td>1     </td><td>11    </td><td>1     </td><td>2     </td><td>  0   </td><td>   1  </td><td>1     </td></tr>\n",
       "\t<tr><td>1     </td><td>20.17 </td><td> 8.170</td><td>2     </td><td>6     </td><td>4     </td><td>1.960 </td><td>1     </td><td>1     </td><td>14    </td><td>0     </td><td>2     </td><td> 60   </td><td> 159  </td><td>1     </td></tr>\n",
       "\t<tr><td>0     </td><td>15.83 </td><td> 0.585</td><td>2     </td><td>8     </td><td>8     </td><td>1.500 </td><td>1     </td><td>1     </td><td> 2    </td><td>0     </td><td>2     </td><td>100   </td><td>   1  </td><td>1     </td></tr>\n",
       "</tbody>\n",
       "</table>\n"
      ],
      "text/latex": [
       "\\begin{tabular}{r|lllllllllllllll}\n",
       " A1 & A2 & A3 & A4 & A5 & A6 & A7 & A8 & A9 & A10 & A11 & A12 & A13 & A14 & class\\\\\n",
       "\\hline\n",
       "\t 1      & 22.08  & 11.460 & 2      & 4      & 4      & 1.585  & 0      & 0      &  0     & 1      & 2      & 100    & 1213   & 0     \\\\\n",
       "\t 0      & 22.67  &  7.000 & 2      & 8      & 4      & 0.165  & 0      & 0      &  0     & 0      & 2      & 160    &    1   & 0     \\\\\n",
       "\t 0      & 29.58  &  1.750 & 1      & 4      & 4      & 1.250  & 0      & 0      &  0     & 1      & 2      & 280    &    1   & 0     \\\\\n",
       "\t 0      & 21.67  & 11.500 & 1      & 5      & 3      & 0.000  & 1      & 1      & 11     & 1      & 2      &   0    &    1   & 1     \\\\\n",
       "\t 1      & 20.17  &  8.170 & 2      & 6      & 4      & 1.960  & 1      & 1      & 14     & 0      & 2      &  60    &  159   & 1     \\\\\n",
       "\t 0      & 15.83  &  0.585 & 2      & 8      & 8      & 1.500  & 1      & 1      &  2     & 0      & 2      & 100    &    1   & 1     \\\\\n",
       "\\end{tabular}\n"
      ],
      "text/markdown": [
       "\n",
       "A1 | A2 | A3 | A4 | A5 | A6 | A7 | A8 | A9 | A10 | A11 | A12 | A13 | A14 | class | \n",
       "|---|---|---|---|---|---|\n",
       "| 1      | 22.08  | 11.460 | 2      | 4      | 4      | 1.585  | 0      | 0      |  0     | 1      | 2      | 100    | 1213   | 0      | \n",
       "| 0      | 22.67  |  7.000 | 2      | 8      | 4      | 0.165  | 0      | 0      |  0     | 0      | 2      | 160    |    1   | 0      | \n",
       "| 0      | 29.58  |  1.750 | 1      | 4      | 4      | 1.250  | 0      | 0      |  0     | 1      | 2      | 280    |    1   | 0      | \n",
       "| 0      | 21.67  | 11.500 | 1      | 5      | 3      | 0.000  | 1      | 1      | 11     | 1      | 2      |   0    |    1   | 1      | \n",
       "| 1      | 20.17  |  8.170 | 2      | 6      | 4      | 1.960  | 1      | 1      | 14     | 0      | 2      |  60    |  159   | 1      | \n",
       "| 0      | 15.83  |  0.585 | 2      | 8      | 8      | 1.500  | 1      | 1      |  2     | 0      | 2      | 100    |    1   | 1      | \n",
       "\n",
       "\n"
      ],
      "text/plain": [
       "  A1 A2    A3     A4 A5 A6 A7    A8 A9 A10 A11 A12 A13 A14  class\n",
       "1 1  22.08 11.460 2  4  4  1.585 0  0   0  1   2   100 1213 0    \n",
       "2 0  22.67  7.000 2  8  4  0.165 0  0   0  0   2   160    1 0    \n",
       "3 0  29.58  1.750 1  4  4  1.250 0  0   0  1   2   280    1 0    \n",
       "4 0  21.67 11.500 1  5  3  0.000 1  1  11  1   2     0    1 1    \n",
       "5 1  20.17  8.170 2  6  4  1.960 1  1  14  0   2    60  159 1    \n",
       "6 0  15.83  0.585 2  8  8  1.500 1  1   2  0   2   100    1 1    "
      ]
     },
     "metadata": {},
     "output_type": "display_data"
    }
   ],
   "source": [
    "DATA_SET <- read.table(\"australian.dat\", header = F, sep = \" \")\n",
    "names(DATA_SET) <- c(paste(\"A\", 1:14, sep = \"\"), \"class\")\n",
    "\n",
    "head(DATA_SET)"
   ]
  },
  {
   "cell_type": "code",
   "execution_count": 4,
   "metadata": {},
   "outputs": [
    {
     "data": {
      "text/html": [
       "<table>\n",
       "<thead><tr><th scope=col>A1</th><th scope=col>A2</th><th scope=col>A3</th><th scope=col>A4</th><th scope=col>A5</th><th scope=col>A6</th><th scope=col>A7</th><th scope=col>A8</th><th scope=col>A9</th><th scope=col>A10</th><th scope=col>A11</th><th scope=col>A12</th><th scope=col>A13</th><th scope=col>A14</th><th scope=col>class</th></tr></thead>\n",
       "<tbody>\n",
       "\t<tr><td>1       </td><td>22.08   </td><td>11.460  </td><td>1       </td><td>4       </td><td>4       </td><td>1.585   </td><td>0       </td><td>0       </td><td> 0      </td><td>1       </td><td>1       </td><td>100     </td><td>7.100852</td><td>0       </td></tr>\n",
       "\t<tr><td>0       </td><td>22.67   </td><td> 7.000  </td><td>1       </td><td>8       </td><td>4       </td><td>0.165   </td><td>0       </td><td>0       </td><td> 0      </td><td>0       </td><td>1       </td><td>160     </td><td>0.000000</td><td>0       </td></tr>\n",
       "\t<tr><td>0       </td><td>29.58   </td><td> 1.750  </td><td>0       </td><td>4       </td><td>4       </td><td>1.250   </td><td>0       </td><td>0       </td><td> 0      </td><td>1       </td><td>1       </td><td>280     </td><td>0.000000</td><td>0       </td></tr>\n",
       "\t<tr><td>0       </td><td>21.67   </td><td>11.500  </td><td>0       </td><td>5       </td><td>3       </td><td>0.000   </td><td>1       </td><td>1       </td><td>11      </td><td>1       </td><td>1       </td><td>  0     </td><td>0.000000</td><td>1       </td></tr>\n",
       "\t<tr><td>1       </td><td>20.17   </td><td> 8.170  </td><td>1       </td><td>6       </td><td>4       </td><td>1.960   </td><td>1       </td><td>1       </td><td>14      </td><td>0       </td><td>1       </td><td> 60     </td><td>5.068904</td><td>1       </td></tr>\n",
       "\t<tr><td>0       </td><td>15.83   </td><td> 0.585  </td><td>1       </td><td>8       </td><td>8       </td><td>1.500   </td><td>1       </td><td>1       </td><td> 2      </td><td>0       </td><td>1       </td><td>100     </td><td>0.000000</td><td>1       </td></tr>\n",
       "</tbody>\n",
       "</table>\n"
      ],
      "text/latex": [
       "\\begin{tabular}{r|lllllllllllllll}\n",
       " A1 & A2 & A3 & A4 & A5 & A6 & A7 & A8 & A9 & A10 & A11 & A12 & A13 & A14 & class\\\\\n",
       "\\hline\n",
       "\t 1        & 22.08    & 11.460   & 1        & 4        & 4        & 1.585    & 0        & 0        &  0       & 1        & 1        & 100      & 7.100852 & 0       \\\\\n",
       "\t 0        & 22.67    &  7.000   & 1        & 8        & 4        & 0.165    & 0        & 0        &  0       & 0        & 1        & 160      & 0.000000 & 0       \\\\\n",
       "\t 0        & 29.58    &  1.750   & 0        & 4        & 4        & 1.250    & 0        & 0        &  0       & 1        & 1        & 280      & 0.000000 & 0       \\\\\n",
       "\t 0        & 21.67    & 11.500   & 0        & 5        & 3        & 0.000    & 1        & 1        & 11       & 1        & 1        &   0      & 0.000000 & 1       \\\\\n",
       "\t 1        & 20.17    &  8.170   & 1        & 6        & 4        & 1.960    & 1        & 1        & 14       & 0        & 1        &  60      & 5.068904 & 1       \\\\\n",
       "\t 0        & 15.83    &  0.585   & 1        & 8        & 8        & 1.500    & 1        & 1        &  2       & 0        & 1        & 100      & 0.000000 & 1       \\\\\n",
       "\\end{tabular}\n"
      ],
      "text/markdown": [
       "\n",
       "A1 | A2 | A3 | A4 | A5 | A6 | A7 | A8 | A9 | A10 | A11 | A12 | A13 | A14 | class | \n",
       "|---|---|---|---|---|---|\n",
       "| 1        | 22.08    | 11.460   | 1        | 4        | 4        | 1.585    | 0        | 0        |  0       | 1        | 1        | 100      | 7.100852 | 0        | \n",
       "| 0        | 22.67    |  7.000   | 1        | 8        | 4        | 0.165    | 0        | 0        |  0       | 0        | 1        | 160      | 0.000000 | 0        | \n",
       "| 0        | 29.58    |  1.750   | 0        | 4        | 4        | 1.250    | 0        | 0        |  0       | 1        | 1        | 280      | 0.000000 | 0        | \n",
       "| 0        | 21.67    | 11.500   | 0        | 5        | 3        | 0.000    | 1        | 1        | 11       | 1        | 1        |   0      | 0.000000 | 1        | \n",
       "| 1        | 20.17    |  8.170   | 1        | 6        | 4        | 1.960    | 1        | 1        | 14       | 0        | 1        |  60      | 5.068904 | 1        | \n",
       "| 0        | 15.83    |  0.585   | 1        | 8        | 8        | 1.500    | 1        | 1        |  2       | 0        | 1        | 100      | 0.000000 | 1        | \n",
       "\n",
       "\n"
      ],
      "text/plain": [
       "  A1 A2    A3     A4 A5 A6 A7    A8 A9 A10 A11 A12 A13 A14      class\n",
       "1 1  22.08 11.460 1  4  4  1.585 0  0   0  1   1   100 7.100852 0    \n",
       "2 0  22.67  7.000 1  8  4  0.165 0  0   0  0   1   160 0.000000 0    \n",
       "3 0  29.58  1.750 0  4  4  1.250 0  0   0  1   1   280 0.000000 0    \n",
       "4 0  21.67 11.500 0  5  3  0.000 1  1  11  1   1     0 0.000000 1    \n",
       "5 1  20.17  8.170 1  6  4  1.960 1  1  14  0   1    60 5.068904 1    \n",
       "6 0  15.83  0.585 1  8  8  1.500 1  1   2  0   1   100 0.000000 1    "
      ]
     },
     "metadata": {},
     "output_type": "display_data"
    }
   ],
   "source": [
    "DATA_SET <- read.table(\"australian.dat\", header = F, sep = \" \")\n",
    "names(DATA_SET) <- c(paste(\"A\", 1:14, sep = \"\"), \"class\")\n",
    "DATA_SET$A4 <- ifelse(DATA_SET$A4 == 1, 0, 1)\n",
    "DATA_SET$A12 <- ifelse(DATA_SET$A12 == 1, 0, 1)\n",
    "DATA_SET$A14 <- log(DATA_SET$A14)\n",
    "head(DATA_SET)"
   ]
  },
  {
   "cell_type": "markdown",
   "metadata": {},
   "source": [
    "Podzielmy je na zbiór trenujący i testowy:"
   ]
  },
  {
   "cell_type": "code",
   "execution_count": 5,
   "metadata": {
    "collapsed": true
   },
   "outputs": [],
   "source": [
    "TRAINING_FRACTION <- 0.5\n",
    "training.set.indices <- (sample.int(nrow(DATA_SET)) / nrow(DATA_SET)\n",
    "                         <= TRAINING_FRACTION)\n",
    "train.set <- DATA_SET[training.set.indices, ]\n",
    "test.set <- DATA_SET[!training.set.indices, ]"
   ]
  },
  {
   "cell_type": "markdown",
   "metadata": {},
   "source": [
    "Oszacujmy nasz model. Będzie to regresja logistyczna z przyjętym bayesowskim kryterium informacyjnym ([BIC](https://en.wikipedia.org/wiki/Bayesian_information_criterion)) jako kryterium selekcji zmiennych:"
   ]
  },
  {
   "cell_type": "code",
   "execution_count": 6,
   "metadata": {
    "collapsed": true
   },
   "outputs": [],
   "source": [
    "full.logit <- glm(class ~ ., data = train.set, family = binomial)\n",
    "BIC.logit <- step(full.logit, k = log(nrow(train.set)), trace = 0)"
   ]
  },
  {
   "cell_type": "markdown",
   "metadata": {},
   "source": [
    "Selekcja zmiennych do modelu regresji logistycznej polega na wyborze takiego zestawu zmiennych objaśniających, który minimalizuje wyrażenie $BIC = -2\\ln(L) + m\\ln(n)$, gdzie $L$ to wartość funkcji wiarygodności, $m$ liczba zmiennych objaśniających a $n$ liczebność zbioru uczącego. Gdybyśmy chcieli zastosować kryterium informacyjne Akaike'go musielibyśmy podmienić $\\ln(n)$ na 2."
   ]
  },
  {
   "cell_type": "markdown",
   "metadata": {},
   "source": [
    "Następnym krokiem jest ocena jakości zbudowanego modelu. Możemy do tego wykorzystać wartości współczynnika [$pseudo-R^2$](https://stats.idre.ucla.edu/other/mult-pkg/faq/general/faq-what-are-pseudo-r-squareds/):"
   ]
  },
  {
   "cell_type": "code",
   "execution_count": 7,
   "metadata": {},
   "outputs": [
    {
     "data": {
      "text/html": [
       "<dl class=dl-horizontal>\n",
       "\t<dt>llh</dt>\n",
       "\t\t<dd>-99.845434989758</dd>\n",
       "\t<dt>llhNull</dt>\n",
       "\t\t<dd>-238.496251598193</dd>\n",
       "\t<dt>G2</dt>\n",
       "\t\t<dd>277.30163321687</dd>\n",
       "\t<dt>McFadden</dt>\n",
       "\t\t<dd>0.581354279907204</dd>\n",
       "\t<dt>r2ML</dt>\n",
       "\t\t<dd>0.552363092676626</dd>\n",
       "\t<dt>r2CU</dt>\n",
       "\t\t<dd>0.737397089060711</dd>\n",
       "</dl>\n"
      ],
      "text/latex": [
       "\\begin{description*}\n",
       "\\item[llh] -99.845434989758\n",
       "\\item[llhNull] -238.496251598193\n",
       "\\item[G2] 277.30163321687\n",
       "\\item[McFadden] 0.581354279907204\n",
       "\\item[r2ML] 0.552363092676626\n",
       "\\item[r2CU] 0.737397089060711\n",
       "\\end{description*}\n"
      ],
      "text/markdown": [
       "llh\n",
       ":   -99.845434989758llhNull\n",
       ":   -238.496251598193G2\n",
       ":   277.30163321687McFadden\n",
       ":   0.581354279907204r2ML\n",
       ":   0.552363092676626r2CU\n",
       ":   0.737397089060711\n",
       "\n"
      ],
      "text/plain": [
       "         llh      llhNull           G2     McFadden         r2ML         r2CU \n",
       " -99.8454350 -238.4962516  277.3016332    0.5813543    0.5523631    0.7373971 "
      ]
     },
     "metadata": {},
     "output_type": "display_data"
    }
   ],
   "source": [
    "pR2(BIC.logit)"
   ]
  },
  {
   "cell_type": "markdown",
   "metadata": {},
   "source": [
    "Czy też wyznaczyć trafność predykcji:"
   ]
  },
  {
   "cell_type": "code",
   "execution_count": 8,
   "metadata": {},
   "outputs": [
    {
     "name": "stdout",
     "output_type": "stream",
     "text": [
      "[1] \"Accuracy 0.83768115942029\"\n"
     ]
    }
   ],
   "source": [
    "fitted.results <- predict(BIC.logit,newdata=test.set,type='response')\n",
    "fitted.results <- ifelse(fitted.results > 0.5,1,0)\n",
    "\n",
    "misClasificError <- mean(fitted.results != test.set$class)\n",
    "print(paste('Accuracy',1-misClasificError))\n",
    "\n"
   ]
  },
  {
   "cell_type": "markdown",
   "metadata": {},
   "source": [
    "Albo wygererować macierz klasyfikacji dla ustalonego progu odcięcia $T$ (w tym wypadku równego $0.5$):"
   ]
  },
  {
   "cell_type": "code",
   "execution_count": 9,
   "metadata": {},
   "outputs": [
    {
     "data": {
      "text/plain": [
       "Confusion Matrix and Statistics\n",
       "\n",
       "          Reference\n",
       "Prediction   0   1\n",
       "         0 166  34\n",
       "         1  22 123\n",
       "                                         \n",
       "               Accuracy : 0.8377         \n",
       "                 95% CI : (0.7945, 0.875)\n",
       "    No Information Rate : 0.5449         \n",
       "    P-Value [Acc > NIR] : <2e-16         \n",
       "                                         \n",
       "                  Kappa : 0.6706         \n",
       " Mcnemar's Test P-Value : 0.1416         \n",
       "                                         \n",
       "            Sensitivity : 0.8830         \n",
       "            Specificity : 0.7834         \n",
       "         Pos Pred Value : 0.8300         \n",
       "         Neg Pred Value : 0.8483         \n",
       "             Prevalence : 0.5449         \n",
       "         Detection Rate : 0.4812         \n",
       "   Detection Prevalence : 0.5797         \n",
       "      Balanced Accuracy : 0.8332         \n",
       "                                         \n",
       "       'Positive' Class : 0              \n",
       "                                         "
      ]
     },
     "metadata": {},
     "output_type": "display_data"
    }
   ],
   "source": [
    "confusionMatrix(test.set$class, fitted.results)"
   ]
  },
  {
   "cell_type": "markdown",
   "metadata": {},
   "source": [
    "Nie zawsze jednak same statystyki są wystarczające. Wizualizacja danych pozwala lepiej zrozumieć otrzymane wyniki i porównać je z wynikami otrzymanymi dla innych modeli. Dlatego też narysujemy 4 wykresy będące najpowszechniej wykorzystywanymi graficznymi metodami oceny jakości dopasowania."
   ]
  },
  {
   "cell_type": "markdown",
   "metadata": {},
   "source": [
    "### 1.1. Krzywa <i>Gain</i>"
   ]
  },
  {
   "cell_type": "markdown",
   "metadata": {},
   "source": [
    "Pierwszą krzywą, którą wygenerujemy jest krzywa <i>gain</i>. Dla zadanego $T \\in \\mathcal{R}$ przedstawia ona uporządkowane pary $(RPP(T),TPR(T))$. $RPP(T)$ oznacza stosunek obserwacji pozytywnie zaklasyfikowanych do wszystkich obserwacji (<i>rate of positive predictions</i>) i przyjmuje postać $RPP(T) = \\frac{\\sum_{i=1}^{n}[p_i >T]}{n}$, gdzien $n$ oznacza liczbę obserwacji w zbiorzea a $p_i$ oszacowane prawdopodobieństwo przynależności do kategorii 1, a $TPR(T)$ (<i>true positive rate<i>) jest czułością (<i>sensitivity</i>) klasyfikatora - stosunkiem obserwacji poprawnie zaklasyfikowanych jako pozytywne do wszystkich pozytywnych obserwacji: $TPR(T) = \\frac{\\sum_{i=1}^{n} [p_i > T  \\land  y_i = 1]}{\\sum_{i=1}^{n}[y_i = 1]}$\n",
    "\n",
    "Krzywa <i>gain</i> informuje nas o ilości wykrytych ($TPR(T)$) obserwacji w stosunku do wszystkich obserwacji zaklasyfikowanych do kategorii 1."
   ]
  },
  {
   "cell_type": "markdown",
   "metadata": {},
   "source": [
    "Aby lepiej zrozumieć sposób jej działania najpierw wygenerujmy krzywe dla dwóch skrajności: klasifikatora w pełni losowego (<i>Random</i>) i klasyfikatora doskonałego (<i>Wizard</i>):"
   ]
  },
  {
   "cell_type": "code",
   "execution_count": 10,
   "metadata": {
    "collapsed": true
   },
   "outputs": [],
   "source": [
    "#generujemy model Random:\n",
    "class <- gain <- lift <- roc <- auc <- prediction.object <- list()\n",
    "class.average <- mean(test.set$class)\n",
    "random.class <- 1\n",
    "for (i in 1:(nrow(test.set) - 1)) {\n",
    "    random.class <- c(random.class, mean(random.class) < class.average)\n",
    "}\n",
    "class[[\"Random\"]] <- list(seq(0, 1, len = nrow(test.set)), random.class)\n",
    "prediction.object[[\"Random\"]]<- prediction(class[[\"Random\"]][[1]],class[[\"Random\"]][[2]])\n",
    "gain[[\"Random\"]] <- performance(prediction.object[[\"Random\"]], \"tpr\", \"rpp\")\n"
   ]
  },
  {
   "cell_type": "code",
   "execution_count": 11,
   "metadata": {
    "collapsed": true
   },
   "outputs": [],
   "source": [
    "#generujemy model Wizard:\n",
    "class[[\"Wizard\"]] <- list(test.set$class, test.set$class)\n",
    "prediction.object[[\"Wizard\"]] <- prediction(class[[\"Wizard\"]][[1]],class[[\"Wizard\"]][[2]])\n",
    "gain[[\"Wizard\"]] <- performance(prediction.object[[\"Wizard\"]], \"tpr\", \"rpp\")\n"
   ]
  },
  {
   "cell_type": "code",
   "execution_count": 12,
   "metadata": {},
   "outputs": [
    {
     "data": {
      "image/png": "[encoded data removed]",
      "text/plain": [
       "Plot with title \"Krzywa Gain\""
      ]
     },
     "metadata": {},
     "output_type": "display_data"
    }
   ],
   "source": [
    "for (i in 1:length(class))\n",
    "    {\n",
    "    plot(gain[[i]], main = paste(\"Krzywa Gain\"), col = i, lwd = 2, add = (i != 1),  xlim = c(0, 1))\n",
    "    legend(\"bottomright\", lty = 1, lwd = 2, col = 1:4, y.intersp = .8,\n",
    "         legend = c(names(gain)), seg.len = 0.5, bty = \"n\")\n",
    "}"
   ]
  },
  {
   "cell_type": "markdown",
   "metadata": {},
   "source": [
    "Na wykresie widać, że wartości krzywej <i>Random</i> mają postać $RPP(T) = TPR(T)$. Wynika to bezpośrednio z faktu, że klasyfikator przyporządkowuje kategorię całkowicie losowo.\n",
    "Przebieg krzywej <i>Wizard</i> jest zupełnie inny. Składa się ona z dwóch części: pierwszej, która łączy punkty $(0,0)$ i $(\\frac{\\sum_{i=1}^{n}[y_i = 1]}{n},1)$ oraz drugiej, która łączy punkty $(\\frac{\\sum_{i=1}^{n}[y_i = 1]}{n},1)$ i $(1,1)$.\n",
    "W pierwszym przedziale krzywa <i>Wizard</i> rośnie liniowo do momentu osiągnięcia wartości $1$. Pokazuje ona proporcjonalny wzrost czułości w zależności od liczby obserwacji zaklasyfikowanych jako pozytywne. \n",
    "Drugi przedział zaczyna się w momencie w którym $RPP(T)$ osiąga wartość równą prawdziwemu udziałowi pozytywnych obserwacji w zbiorze. Wtedy jest ona stałą zawsze równą 1: $TPP(T) = 1$, co wynika z tego, że klasyfikator idealny zawsze poprawnie klasykifuje zmienne i poprawnie zaklasyfikowanych zmiennych nie może być ani mniej ani więcej niż wynosi ich całkowity udział w zbiorze. "
   ]
  },
  {
   "cell_type": "markdown",
   "metadata": {},
   "source": [
    "Dodajmy teraz krzywe dla  oszacowanego logitu na zbiorze trenującym (<i>Train</i>) i na zbiorze testowym (<i>Test</i>):"
   ]
  },
  {
   "cell_type": "code",
   "execution_count": 14,
   "metadata": {
    "collapsed": true
   },
   "outputs": [],
   "source": [
    "#generujemy model Train:\n",
    "class[[\"Train\"]] <- list(predict(BIC.logit, newdata = train.set, type = \"response\"), train.set$class)\n",
    "prediction.object[[\"Train\"]] <- prediction(class[[\"Train\"]][[1]],class[[\"Train\"]][[2]])\n",
    "gain[[\"Train\"]] <- performance(prediction.object[[\"Train\"]], \"tpr\", \"rpp\")\n"
   ]
  },
  {
   "cell_type": "code",
   "execution_count": 15,
   "metadata": {
    "collapsed": true
   },
   "outputs": [],
   "source": [
    "#generujemy model Test:\n",
    "class[[\"Test\"]] <- list(predict(BIC.logit, newdata = test.set, type = \"response\"), test.set$class)\n",
    "prediction.object[[\"Test\"]] <- prediction(class[[\"Test\"]][[1]],class[[\"Test\"]][[2]])\n",
    "gain[[\"Test\"]] <- performance(prediction.object[[\"Test\"]], \"tpr\", \"rpp\")\n"
   ]
  },
  {
   "cell_type": "code",
   "execution_count": 16,
   "metadata": {},
   "outputs": [
    {
     "data": {
      "image/png": "[encoded data removed]",
      "text/plain": [
       "Plot with title \"Krzywa Gain\""
      ]
     },
     "metadata": {},
     "output_type": "display_data"
    }
   ],
   "source": [
    "for (i in 1:length(class))\n",
    "    {\n",
    "    plot(gain[[i]], main = paste(\"Krzywa Gain\"), col = i, lwd = 2, add = (i != 1),  xlim = c(0, 1))\n",
    "    legend(\"bottomright\", lty = 1, lwd = 2, col = 1:4, y.intersp = .8,\n",
    "         legend = c(names(gain)), seg.len = 0.5, bty = \"n\")\n",
    "}"
   ]
  },
  {
   "cell_type": "markdown",
   "metadata": {},
   "source": [
    "Dodanie krzywych dla oszacowanego modelu pozwala nam odczytać kilka ważnych informacji. Przede wszystkim możemy ocenić jakość modelu. Im jest lepszym klasyfikatorem tym jego przebieg jest bliższy krzywej <i>Wizard<i>. Wybierając model chcemy zminimalizować pole powierzchni wyznaczane przez krzywą mu odpowiadającą i krzywą <i>Wizard<i>. \n",
    "Ponadto ważna jest informacja na temat tego jak zachowuje się krzywa dla zbioru testowego w stosunku dla tej dla zbioru trenującego. Jeżeli różnica w ich przebiegu jest duża oznacza to, że model nie jest stabilny i prawdopodobnie został przetrenowany."
   ]
  },
  {
   "cell_type": "markdown",
   "metadata": {},
   "source": [
    "### 1.2 Krzywa <i>Lift</i>"
   ]
  },
  {
   "cell_type": "markdown",
   "metadata": {},
   "source": [
    "Kolejną krzywą jest krzywa <i>lift</i>. Można ją traktować jako pochodną krzywej <i>gain</i>, pokazuje ona ilokrotnie wartość krzywej <i>gain</i> danego modelu jest większa niż wartość tej krzywej dla modelu <i>Random</i>."
   ]
  },
  {
   "cell_type": "markdown",
   "metadata": {},
   "source": [
    "Wyznaczają ją pary wartości $(RPP(T),LIFT(T))$ gdzie $LIFT(T)$ definiujemy jako: $\\frac{TPR(T)}{RPP(T)}$. Najpierw przedstawmy jej wartości dla klasyfikatorów <i>Random</i> i <i>Wizard</i>:"
   ]
  },
  {
   "cell_type": "code",
   "execution_count": 25,
   "metadata": {},
   "outputs": [
    {
     "data": {
      "text/plain": [
       "An object of class \"prediction\"\n",
       "Slot \"predictions\":\n",
       "[[1]]\n",
       "  [1] 0.000000000 0.002906977 0.005813953 0.008720930 0.011627907 0.014534884\n",
       "  [7] 0.017441860 0.020348837 0.023255814 0.026162791 0.029069767 0.031976744\n",
       " [13] 0.034883721 0.037790698 0.040697674 0.043604651 0.046511628 0.049418605\n",
       " [19] 0.052325581 0.055232558 0.058139535 0.061046512 0.063953488 0.066860465\n",
       " [25] 0.069767442 0.072674419 0.075581395 0.078488372 0.081395349 0.084302326\n",
       " [31] 0.087209302 0.090116279 0.093023256 0.095930233 0.098837209 0.101744186\n",
       " [37] 0.104651163 0.107558140 0.110465116 0.113372093 0.116279070 0.119186047\n",
       " [43] 0.122093023 0.125000000 0.127906977 0.130813953 0.133720930 0.136627907\n",
       " [49] 0.139534884 0.142441860 0.145348837 0.148255814 0.151162791 0.154069767\n",
       " [55] 0.156976744 0.159883721 0.162790698 0.165697674 0.168604651 0.171511628\n",
       " [61] 0.174418605 0.177325581 0.180232558 0.183139535 0.186046512 0.188953488\n",
       " [67] 0.191860465 0.194767442 0.197674419 0.200581395 0.203488372 0.206395349\n",
       " [73] 0.209302326 0.212209302 0.215116279 0.218023256 0.220930233 0.223837209\n",
       " [79] 0.226744186 0.229651163 0.232558140 0.235465116 0.238372093 0.241279070\n",
       " [85] 0.244186047 0.247093023 0.250000000 0.252906977 0.255813953 0.258720930\n",
       " [91] 0.261627907 0.264534884 0.267441860 0.270348837 0.273255814 0.276162791\n",
       " [97] 0.279069767 0.281976744 0.284883721 0.287790698 0.290697674 0.293604651\n",
       "[103] 0.296511628 0.299418605 0.302325581 0.305232558 0.308139535 0.311046512\n",
       "[109] 0.313953488 0.316860465 0.319767442 0.322674419 0.325581395 0.328488372\n",
       "[115] 0.331395349 0.334302326 0.337209302 0.340116279 0.343023256 0.345930233\n",
       "[121] 0.348837209 0.351744186 0.354651163 0.357558140 0.360465116 0.363372093\n",
       "[127] 0.366279070 0.369186047 0.372093023 0.375000000 0.377906977 0.380813953\n",
       "[133] 0.383720930 0.386627907 0.389534884 0.392441860 0.395348837 0.398255814\n",
       "[139] 0.401162791 0.404069767 0.406976744 0.409883721 0.412790698 0.415697674\n",
       "[145] 0.418604651 0.421511628 0.424418605 0.427325581 0.430232558 0.433139535\n",
       "[151] 0.436046512 0.438953488 0.441860465 0.444767442 0.447674419 0.450581395\n",
       "[157] 0.453488372 0.456395349 0.459302326 0.462209302 0.465116279 0.468023256\n",
       "[163] 0.470930233 0.473837209 0.476744186 0.479651163 0.482558140 0.485465116\n",
       "[169] 0.488372093 0.491279070 0.494186047 0.497093023 0.500000000 0.502906977\n",
       "[175] 0.505813953 0.508720930 0.511627907 0.514534884 0.517441860 0.520348837\n",
       "[181] 0.523255814 0.526162791 0.529069767 0.531976744 0.534883721 0.537790698\n",
       "[187] 0.540697674 0.543604651 0.546511628 0.549418605 0.552325581 0.555232558\n",
       "[193] 0.558139535 0.561046512 0.563953488 0.566860465 0.569767442 0.572674419\n",
       "[199] 0.575581395 0.578488372 0.581395349 0.584302326 0.587209302 0.590116279\n",
       "[205] 0.593023256 0.595930233 0.598837209 0.601744186 0.604651163 0.607558140\n",
       "[211] 0.610465116 0.613372093 0.616279070 0.619186047 0.622093023 0.625000000\n",
       "[217] 0.627906977 0.630813953 0.633720930 0.636627907 0.639534884 0.642441860\n",
       "[223] 0.645348837 0.648255814 0.651162791 0.654069767 0.656976744 0.659883721\n",
       "[229] 0.662790698 0.665697674 0.668604651 0.671511628 0.674418605 0.677325581\n",
       "[235] 0.680232558 0.683139535 0.686046512 0.688953488 0.691860465 0.694767442\n",
       "[241] 0.697674419 0.700581395 0.703488372 0.706395349 0.709302326 0.712209302\n",
       "[247] 0.715116279 0.718023256 0.720930233 0.723837209 0.726744186 0.729651163\n",
       "[253] 0.732558140 0.735465116 0.738372093 0.741279070 0.744186047 0.747093023\n",
       "[259] 0.750000000 0.752906977 0.755813953 0.758720930 0.761627907 0.764534884\n",
       "[265] 0.767441860 0.770348837 0.773255814 0.776162791 0.779069767 0.781976744\n",
       "[271] 0.784883721 0.787790698 0.790697674 0.793604651 0.796511628 0.799418605\n",
       "[277] 0.802325581 0.805232558 0.808139535 0.811046512 0.813953488 0.816860465\n",
       "[283] 0.819767442 0.822674419 0.825581395 0.828488372 0.831395349 0.834302326\n",
       "[289] 0.837209302 0.840116279 0.843023256 0.845930233 0.848837209 0.851744186\n",
       "[295] 0.854651163 0.857558140 0.860465116 0.863372093 0.866279070 0.869186047\n",
       "[301] 0.872093023 0.875000000 0.877906977 0.880813953 0.883720930 0.886627907\n",
       "[307] 0.889534884 0.892441860 0.895348837 0.898255814 0.901162791 0.904069767\n",
       "[313] 0.906976744 0.909883721 0.912790698 0.915697674 0.918604651 0.921511628\n",
       "[319] 0.924418605 0.927325581 0.930232558 0.933139535 0.936046512 0.938953488\n",
       "[325] 0.941860465 0.944767442 0.947674419 0.950581395 0.953488372 0.956395349\n",
       "[331] 0.959302326 0.962209302 0.965116279 0.968023256 0.970930233 0.973837209\n",
       "[337] 0.976744186 0.979651163 0.982558140 0.985465116 0.988372093 0.991279070\n",
       "[343] 0.994186047 0.997093023 1.000000000\n",
       "\n",
       "\n",
       "Slot \"labels\":\n",
       "[[1]]\n",
       "  [1] 1 0 0 1 0 1 0 0 1 0 1 0 1 0 0 1 0 1 0 0 1 0 1 0 1 0 0 1 0 1 0 1 0 0 1 0 1\n",
       " [38] 0 0 1 0 1 0 1 0 0 1 0 1 0 1 0 0 1 0 1 0 0 1 0 1 0 1 0 0 1 0 1 0 0 1 0 1 0\n",
       " [75] 1 0 0 1 0 1 0 1 0 0 1 0 1 0 0 1 0 1 0 1 0 0 1 0 1 0 1 0 0 1 0 1 0 0 1 0 1\n",
       "[112] 0 1 0 0 1 0 1 0 1 0 0 1 0 1 0 0 1 0 1 0 1 0 0 1 0 1 0 0 1 0 1 0 1 0 0 1 0\n",
       "[149] 1 0 1 0 0 1 0 1 0 0 1 0 1 0 1 0 0 1 0 1 0 1 0 0 1 0 1 0 0 1 0 1 0 1 0 0 1\n",
       "[186] 0 1 0 1 0 0 1 0 1 0 0 1 0 1 0 1 0 0 1 0 1 0 0 1 0 1 0 1 0 0 1 0 1 0 1 0 0\n",
       "[223] 1 0 1 0 0 1 0 1 0 1 0 0 1 0 1 0 1 0 0 1 0 1 0 0 1 0 1 0 1 0 0 1 0 1 0 1 0\n",
       "[260] 0 1 0 1 0 0 1 0 1 0 1 0 0 1 0 1 0 0 1 0 1 0 1 0 0 1 0 1 0 1 0 0 1 0 1 0 0\n",
       "[297] 1 0 1 0 1 0 0 1 0 1 0 1 0 0 1 0 1 0 0 1 0 1 0 1 0 0 1 0 1 0 1 0 0 1 0 1 0\n",
       "[334] 0 1 0 1 0 1 0 0 1 0 1 0\n",
       "Levels: 0 < 1\n",
       "\n",
       "\n",
       "Slot \"cutoffs\":\n",
       "[[1]]\n",
       "  [1]         Inf 1.000000000 0.997093023 0.994186047 0.991279070 0.988372093\n",
       "  [7] 0.985465116 0.982558140 0.979651163 0.976744186 0.973837209 0.970930233\n",
       " [13] 0.968023256 0.965116279 0.962209302 0.959302326 0.956395349 0.953488372\n",
       " [19] 0.950581395 0.947674419 0.944767442 0.941860465 0.938953488 0.936046512\n",
       " [25] 0.933139535 0.930232558 0.927325581 0.924418605 0.921511628 0.918604651\n",
       " [31] 0.915697674 0.912790698 0.909883721 0.906976744 0.904069767 0.901162791\n",
       " [37] 0.898255814 0.895348837 0.892441860 0.889534884 0.886627907 0.883720930\n",
       " [43] 0.880813953 0.877906977 0.875000000 0.872093023 0.869186047 0.866279070\n",
       " [49] 0.863372093 0.860465116 0.857558140 0.854651163 0.851744186 0.848837209\n",
       " [55] 0.845930233 0.843023256 0.840116279 0.837209302 0.834302326 0.831395349\n",
       " [61] 0.828488372 0.825581395 0.822674419 0.819767442 0.816860465 0.813953488\n",
       " [67] 0.811046512 0.808139535 0.805232558 0.802325581 0.799418605 0.796511628\n",
       " [73] 0.793604651 0.790697674 0.787790698 0.784883721 0.781976744 0.779069767\n",
       " [79] 0.776162791 0.773255814 0.770348837 0.767441860 0.764534884 0.761627907\n",
       " [85] 0.758720930 0.755813953 0.752906977 0.750000000 0.747093023 0.744186047\n",
       " [91] 0.741279070 0.738372093 0.735465116 0.732558140 0.729651163 0.726744186\n",
       " [97] 0.723837209 0.720930233 0.718023256 0.715116279 0.712209302 0.709302326\n",
       "[103] 0.706395349 0.703488372 0.700581395 0.697674419 0.694767442 0.691860465\n",
       "[109] 0.688953488 0.686046512 0.683139535 0.680232558 0.677325581 0.674418605\n",
       "[115] 0.671511628 0.668604651 0.665697674 0.662790698 0.659883721 0.656976744\n",
       "[121] 0.654069767 0.651162791 0.648255814 0.645348837 0.642441860 0.639534884\n",
       "[127] 0.636627907 0.633720930 0.630813953 0.627906977 0.625000000 0.622093023\n",
       "[133] 0.619186047 0.616279070 0.613372093 0.610465116 0.607558140 0.604651163\n",
       "[139] 0.601744186 0.598837209 0.595930233 0.593023256 0.590116279 0.587209302\n",
       "[145] 0.584302326 0.581395349 0.578488372 0.575581395 0.572674419 0.569767442\n",
       "[151] 0.566860465 0.563953488 0.561046512 0.558139535 0.555232558 0.552325581\n",
       "[157] 0.549418605 0.546511628 0.543604651 0.540697674 0.537790698 0.534883721\n",
       "[163] 0.531976744 0.529069767 0.526162791 0.523255814 0.520348837 0.517441860\n",
       "[169] 0.514534884 0.511627907 0.508720930 0.505813953 0.502906977 0.500000000\n",
       "[175] 0.497093023 0.494186047 0.491279070 0.488372093 0.485465116 0.482558140\n",
       "[181] 0.479651163 0.476744186 0.473837209 0.470930233 0.468023256 0.465116279\n",
       "[187] 0.462209302 0.459302326 0.456395349 0.453488372 0.450581395 0.447674419\n",
       "[193] 0.444767442 0.441860465 0.438953488 0.436046512 0.433139535 0.430232558\n",
       "[199] 0.427325581 0.424418605 0.421511628 0.418604651 0.415697674 0.412790698\n",
       "[205] 0.409883721 0.406976744 0.404069767 0.401162791 0.398255814 0.395348837\n",
       "[211] 0.392441860 0.389534884 0.386627907 0.383720930 0.380813953 0.377906977\n",
       "[217] 0.375000000 0.372093023 0.369186047 0.366279070 0.363372093 0.360465116\n",
       "[223] 0.357558140 0.354651163 0.351744186 0.348837209 0.345930233 0.343023256\n",
       "[229] 0.340116279 0.337209302 0.334302326 0.331395349 0.328488372 0.325581395\n",
       "[235] 0.322674419 0.319767442 0.316860465 0.313953488 0.311046512 0.308139535\n",
       "[241] 0.305232558 0.302325581 0.299418605 0.296511628 0.293604651 0.290697674\n",
       "[247] 0.287790698 0.284883721 0.281976744 0.279069767 0.276162791 0.273255814\n",
       "[253] 0.270348837 0.267441860 0.264534884 0.261627907 0.258720930 0.255813953\n",
       "[259] 0.252906977 0.250000000 0.247093023 0.244186047 0.241279070 0.238372093\n",
       "[265] 0.235465116 0.232558140 0.229651163 0.226744186 0.223837209 0.220930233\n",
       "[271] 0.218023256 0.215116279 0.212209302 0.209302326 0.206395349 0.203488372\n",
       "[277] 0.200581395 0.197674419 0.194767442 0.191860465 0.188953488 0.186046512\n",
       "[283] 0.183139535 0.180232558 0.177325581 0.174418605 0.171511628 0.168604651\n",
       "[289] 0.165697674 0.162790698 0.159883721 0.156976744 0.154069767 0.151162791\n",
       "[295] 0.148255814 0.145348837 0.142441860 0.139534884 0.136627907 0.133720930\n",
       "[301] 0.130813953 0.127906977 0.125000000 0.122093023 0.119186047 0.116279070\n",
       "[307] 0.113372093 0.110465116 0.107558140 0.104651163 0.101744186 0.098837209\n",
       "[313] 0.095930233 0.093023256 0.090116279 0.087209302 0.084302326 0.081395349\n",
       "[319] 0.078488372 0.075581395 0.072674419 0.069767442 0.066860465 0.063953488\n",
       "[325] 0.061046512 0.058139535 0.055232558 0.052325581 0.049418605 0.046511628\n",
       "[331] 0.043604651 0.040697674 0.037790698 0.034883721 0.031976744 0.029069767\n",
       "[337] 0.026162791 0.023255814 0.020348837 0.017441860 0.014534884 0.011627907\n",
       "[343] 0.008720930 0.005813953 0.002906977 0.000000000\n",
       "\n",
       "\n",
       "Slot \"fp\":\n",
       "[[1]]\n",
       "  [1]   0   1   1   2   2   3   4   4   5   5   6   6   7   8   8   9   9  10\n",
       " [19]  11  11  12  12  13  13  14  15  15  16  16  17  17  18  19  19  20  20\n",
       " [37]  21  22  22  23  23  24  24  25  26  26  27  27  28  28  29  30  30  31\n",
       " [55]  31  32  33  33  34  34  35  35  36  37  37  38  38  39  39  40  41  41\n",
       " [73]  42  42  43  44  44  45  45  46  46  47  48  48  49  49  50  51  51  52\n",
       " [91]  52  53  53  54  55  55  56  56  57  57  58  59  59  60  60  61  62  62\n",
       "[109]  63  63  64  64  65  66  66  67  67  68  68  69  70  70  71  71  72  73\n",
       "[127]  73  74  74  75  75  76  77  77  78  78  79  79  80  81  81  82  82  83\n",
       "[145]  84  84  85  85  86  86  87  88  88  89  89  90  91  91  92  92  93  93\n",
       "[163]  94  95  95  96  96  97  97  98  99  99 100 100 101 102 102 103 103 104\n",
       "[181] 104 105 106 106 107 107 108 108 109 110 110 111 111 112 113 113 114 114\n",
       "[199] 115 115 116 117 117 118 118 119 119 120 121 121 122 122 123 124 124 125\n",
       "[217] 125 126 126 127 128 128 129 129 130 131 131 132 132 133 133 134 135 135\n",
       "[235] 136 136 137 137 138 139 139 140 140 141 142 142 143 143 144 144 145 146\n",
       "[253] 146 147 147 148 148 149 150 150 151 151 152 153 153 154 154 155 155 156\n",
       "[271] 157 157 158 158 159 159 160 161 161 162 162 163 164 164 165 165 166 166\n",
       "[289] 167 168 168 169 169 170 171 171 172 172 173 173 174 175 175 176 176 177\n",
       "[307] 177 178 179 179 180 180 181 182 182 183 183 184 184 185 186 186 187 187\n",
       "[325] 188 188 189 190 190 191 191 192 193 193 194 194 195 195 196 197 197 198\n",
       "[343] 198 199 200 200\n",
       "\n",
       "\n",
       "Slot \"tp\":\n",
       "[[1]]\n",
       "  [1]   0   0   1   1   2   2   2   3   3   4   4   5   5   5   6   6   7   7\n",
       " [19]   7   8   8   9   9  10  10  10  11  11  12  12  13  13  13  14  14  15\n",
       " [37]  15  15  16  16  17  17  18  18  18  19  19  20  20  21  21  21  22  22\n",
       " [55]  23  23  23  24  24  25  25  26  26  26  27  27  28  28  29  29  29  30\n",
       " [73]  30  31  31  31  32  32  33  33  34  34  34  35  35  36  36  36  37  37\n",
       " [91]  38  38  39  39  39  40  40  41  41  42  42  42  43  43  44  44  44  45\n",
       "[109]  45  46  46  47  47  47  48  48  49  49  50  50  50  51  51  52  52  52\n",
       "[127]  53  53  54  54  55  55  55  56  56  57  57  58  58  58  59  59  60  60\n",
       "[145]  60  61  61  62  62  63  63  63  64  64  65  65  65  66  66  67  67  68\n",
       "[163]  68  68  69  69  70  70  71  71  71  72  72  73  73  73  74  74  75  75\n",
       "[181]  76  76  76  77  77  78  78  79  79  79  80  80  81  81  81  82  82  83\n",
       "[199]  83  84  84  84  85  85  86  86  87  87  87  88  88  89  89  89  90  90\n",
       "[217]  91  91  92  92  92  93  93  94  94  94  95  95  96  96  97  97  97  98\n",
       "[235]  98  99  99 100 100 100 101 101 102 102 102 103 103 104 104 105 105 105\n",
       "[253] 106 106 107 107 108 108 108 109 109 110 110 110 111 111 112 112 113 113\n",
       "[271] 113 114 114 115 115 116 116 116 117 117 118 118 118 119 119 120 120 121\n",
       "[289] 121 121 122 122 123 123 123 124 124 125 125 126 126 126 127 127 128 128\n",
       "[307] 129 129 129 130 130 131 131 131 132 132 133 133 134 134 134 135 135 136\n",
       "[325] 136 137 137 137 138 138 139 139 139 140 140 141 141 142 142 142 143 143\n",
       "[343] 144 144 144 145\n",
       "\n",
       "\n",
       "Slot \"tn\":\n",
       "[[1]]\n",
       "  [1] 200 199 199 198 198 197 196 196 195 195 194 194 193 192 192 191 191 190\n",
       " [19] 189 189 188 188 187 187 186 185 185 184 184 183 183 182 181 181 180 180\n",
       " [37] 179 178 178 177 177 176 176 175 174 174 173 173 172 172 171 170 170 169\n",
       " [55] 169 168 167 167 166 166 165 165 164 163 163 162 162 161 161 160 159 159\n",
       " [73] 158 158 157 156 156 155 155 154 154 153 152 152 151 151 150 149 149 148\n",
       " [91] 148 147 147 146 145 145 144 144 143 143 142 141 141 140 140 139 138 138\n",
       "[109] 137 137 136 136 135 134 134 133 133 132 132 131 130 130 129 129 128 127\n",
       "[127] 127 126 126 125 125 124 123 123 122 122 121 121 120 119 119 118 118 117\n",
       "[145] 116 116 115 115 114 114 113 112 112 111 111 110 109 109 108 108 107 107\n",
       "[163] 106 105 105 104 104 103 103 102 101 101 100 100  99  98  98  97  97  96\n",
       "[181]  96  95  94  94  93  93  92  92  91  90  90  89  89  88  87  87  86  86\n",
       "[199]  85  85  84  83  83  82  82  81  81  80  79  79  78  78  77  76  76  75\n",
       "[217]  75  74  74  73  72  72  71  71  70  69  69  68  68  67  67  66  65  65\n",
       "[235]  64  64  63  63  62  61  61  60  60  59  58  58  57  57  56  56  55  54\n",
       "[253]  54  53  53  52  52  51  50  50  49  49  48  47  47  46  46  45  45  44\n",
       "[271]  43  43  42  42  41  41  40  39  39  38  38  37  36  36  35  35  34  34\n",
       "[289]  33  32  32  31  31  30  29  29  28  28  27  27  26  25  25  24  24  23\n",
       "[307]  23  22  21  21  20  20  19  18  18  17  17  16  16  15  14  14  13  13\n",
       "[325]  12  12  11  10  10   9   9   8   7   7   6   6   5   5   4   3   3   2\n",
       "[343]   2   1   0   0\n",
       "\n",
       "\n",
       "Slot \"fn\":\n",
       "[[1]]\n",
       "  [1] 145 145 144 144 143 143 143 142 142 141 141 140 140 140 139 139 138 138\n",
       " [19] 138 137 137 136 136 135 135 135 134 134 133 133 132 132 132 131 131 130\n",
       " [37] 130 130 129 129 128 128 127 127 127 126 126 125 125 124 124 124 123 123\n",
       " [55] 122 122 122 121 121 120 120 119 119 119 118 118 117 117 116 116 116 115\n",
       " [73] 115 114 114 114 113 113 112 112 111 111 111 110 110 109 109 109 108 108\n",
       " [91] 107 107 106 106 106 105 105 104 104 103 103 103 102 102 101 101 101 100\n",
       "[109] 100  99  99  98  98  98  97  97  96  96  95  95  95  94  94  93  93  93\n",
       "[127]  92  92  91  91  90  90  90  89  89  88  88  87  87  87  86  86  85  85\n",
       "[145]  85  84  84  83  83  82  82  82  81  81  80  80  80  79  79  78  78  77\n",
       "[163]  77  77  76  76  75  75  74  74  74  73  73  72  72  72  71  71  70  70\n",
       "[181]  69  69  69  68  68  67  67  66  66  66  65  65  64  64  64  63  63  62\n",
       "[199]  62  61  61  61  60  60  59  59  58  58  58  57  57  56  56  56  55  55\n",
       "[217]  54  54  53  53  53  52  52  51  51  51  50  50  49  49  48  48  48  47\n",
       "[235]  47  46  46  45  45  45  44  44  43  43  43  42  42  41  41  40  40  40\n",
       "[253]  39  39  38  38  37  37  37  36  36  35  35  35  34  34  33  33  32  32\n",
       "[271]  32  31  31  30  30  29  29  29  28  28  27  27  27  26  26  25  25  24\n",
       "[289]  24  24  23  23  22  22  22  21  21  20  20  19  19  19  18  18  17  17\n",
       "[307]  16  16  16  15  15  14  14  14  13  13  12  12  11  11  11  10  10   9\n",
       "[325]   9   8   8   8   7   7   6   6   6   5   5   4   4   3   3   3   2   2\n",
       "[343]   1   1   1   0\n",
       "\n",
       "\n",
       "Slot \"n.pos\":\n",
       "[[1]]\n",
       "[1] 145\n",
       "\n",
       "\n",
       "Slot \"n.neg\":\n",
       "[[1]]\n",
       "[1] 200\n",
       "\n",
       "\n",
       "Slot \"n.pos.pred\":\n",
       "[[1]]\n",
       "  [1]   0   1   2   3   4   5   6   7   8   9  10  11  12  13  14  15  16  17\n",
       " [19]  18  19  20  21  22  23  24  25  26  27  28  29  30  31  32  33  34  35\n",
       " [37]  36  37  38  39  40  41  42  43  44  45  46  47  48  49  50  51  52  53\n",
       " [55]  54  55  56  57  58  59  60  61  62  63  64  65  66  67  68  69  70  71\n",
       " [73]  72  73  74  75  76  77  78  79  80  81  82  83  84  85  86  87  88  89\n",
       " [91]  90  91  92  93  94  95  96  97  98  99 100 101 102 103 104 105 106 107\n",
       "[109] 108 109 110 111 112 113 114 115 116 117 118 119 120 121 122 123 124 125\n",
       "[127] 126 127 128 129 130 131 132 133 134 135 136 137 138 139 140 141 142 143\n",
       "[145] 144 145 146 147 148 149 150 151 152 153 154 155 156 157 158 159 160 161\n",
       "[163] 162 163 164 165 166 167 168 169 170 171 172 173 174 175 176 177 178 179\n",
       "[181] 180 181 182 183 184 185 186 187 188 189 190 191 192 193 194 195 196 197\n",
       "[199] 198 199 200 201 202 203 204 205 206 207 208 209 210 211 212 213 214 215\n",
       "[217] 216 217 218 219 220 221 222 223 224 225 226 227 228 229 230 231 232 233\n",
       "[235] 234 235 236 237 238 239 240 241 242 243 244 245 246 247 248 249 250 251\n",
       "[253] 252 253 254 255 256 257 258 259 260 261 262 263 264 265 266 267 268 269\n",
       "[271] 270 271 272 273 274 275 276 277 278 279 280 281 282 283 284 285 286 287\n",
       "[289] 288 289 290 291 292 293 294 295 296 297 298 299 300 301 302 303 304 305\n",
       "[307] 306 307 308 309 310 311 312 313 314 315 316 317 318 319 320 321 322 323\n",
       "[325] 324 325 326 327 328 329 330 331 332 333 334 335 336 337 338 339 340 341\n",
       "[343] 342 343 344 345\n",
       "\n",
       "\n",
       "Slot \"n.neg.pred\":\n",
       "[[1]]\n",
       "  [1] 345 344 343 342 341 340 339 338 337 336 335 334 333 332 331 330 329 328\n",
       " [19] 327 326 325 324 323 322 321 320 319 318 317 316 315 314 313 312 311 310\n",
       " [37] 309 308 307 306 305 304 303 302 301 300 299 298 297 296 295 294 293 292\n",
       " [55] 291 290 289 288 287 286 285 284 283 282 281 280 279 278 277 276 275 274\n",
       " [73] 273 272 271 270 269 268 267 266 265 264 263 262 261 260 259 258 257 256\n",
       " [91] 255 254 253 252 251 250 249 248 247 246 245 244 243 242 241 240 239 238\n",
       "[109] 237 236 235 234 233 232 231 230 229 228 227 226 225 224 223 222 221 220\n",
       "[127] 219 218 217 216 215 214 213 212 211 210 209 208 207 206 205 204 203 202\n",
       "[145] 201 200 199 198 197 196 195 194 193 192 191 190 189 188 187 186 185 184\n",
       "[163] 183 182 181 180 179 178 177 176 175 174 173 172 171 170 169 168 167 166\n",
       "[181] 165 164 163 162 161 160 159 158 157 156 155 154 153 152 151 150 149 148\n",
       "[199] 147 146 145 144 143 142 141 140 139 138 137 136 135 134 133 132 131 130\n",
       "[217] 129 128 127 126 125 124 123 122 121 120 119 118 117 116 115 114 113 112\n",
       "[235] 111 110 109 108 107 106 105 104 103 102 101 100  99  98  97  96  95  94\n",
       "[253]  93  92  91  90  89  88  87  86  85  84  83  82  81  80  79  78  77  76\n",
       "[271]  75  74  73  72  71  70  69  68  67  66  65  64  63  62  61  60  59  58\n",
       "[289]  57  56  55  54  53  52  51  50  49  48  47  46  45  44  43  42  41  40\n",
       "[307]  39  38  37  36  35  34  33  32  31  30  29  28  27  26  25  24  23  22\n",
       "[325]  21  20  19  18  17  16  15  14  13  12  11  10   9   8   7   6   5   4\n",
       "[343]   3   2   1   0\n",
       "\n"
      ]
     },
     "metadata": {},
     "output_type": "display_data"
    }
   ],
   "source": [
    "prediction.object[[\"Random\"]]"
   ]
  },
  {
   "cell_type": "code",
   "execution_count": null,
   "metadata": {
    "collapsed": true
   },
   "outputs": [],
   "source": []
  },
  {
   "cell_type": "code",
   "execution_count": 17,
   "metadata": {
    "collapsed": true
   },
   "outputs": [],
   "source": [
    "#generujemy model Random:a\n",
    "\n",
    "lift[[\"Random\"]] <- performance(prediction.object[[\"Random\"]], \"lift\", \"rpp\")\n"
   ]
  },
  {
   "cell_type": "code",
   "execution_count": 18,
   "metadata": {
    "collapsed": true
   },
   "outputs": [],
   "source": [
    "#generujemy model Wizard:\n",
    "lift[[\"Wizard\"]] <- performance(prediction.object[[\"Wizard\"]], \"lift\", \"rpp\")\n"
   ]
  },
  {
   "cell_type": "code",
   "execution_count": 19,
   "metadata": {},
   "outputs": [
    {
     "data": {
      "image/png": "[encoded data removed]",
      "text/plain": [
       "Plot with title \"Krzywa Lift\""
      ]
     },
     "metadata": {},
     "output_type": "display_data"
    }
   ],
   "source": [
    "for (i in 1:2)\n",
    "    {\n",
    "    plot(lift[[i]], main = paste(\"Krzywa Lift\"), col = i, lwd = 2, add = (i != 1),  xlim = c(0, 1), ylim = c(1,2.5))\n",
    "    legend(\"topright\", lty = 1, lwd = 2, col = 1:4, y.intersp = .8,\n",
    "         legend = c(names(lift)), seg.len = 0.5, bty = \"n\")\n",
    "}"
   ]
  },
  {
   "cell_type": "markdown",
   "metadata": {},
   "source": [
    "Dla modelu <i>Random</i> jest ona stała i zawsze wynosi 1, co wynika z jej definicji (różnice na wykresie są skutkiem wielkości próby wykorzystanej do jego tworzenia). \n",
    "Dla modelu <i>Wizard</i> w przedziale $(0,\\frac{\\sum_{i=1}^{n}[y_i = 1]}{n})$ jest ona stała i wynosi $LIFT(T) = \\dfrac{1}{\\sum_{i=1}^{n}[y_i = 1]/n}$ i następnie spada hiperbolicznie do punktu $(1,1)$. "
   ]
  },
  {
   "cell_type": "markdown",
   "metadata": {},
   "source": [
    "Dodajmy krzywe <i>Train</i> i <i>Test</i>:"
   ]
  },
  {
   "cell_type": "code",
   "execution_count": 20,
   "metadata": {
    "collapsed": true
   },
   "outputs": [],
   "source": [
    "#generujemy model Train:\n",
    "lift[[\"Train\"]] <- performance(prediction.object[[\"Train\"]], \"lift\", \"rpp\")\n"
   ]
  },
  {
   "cell_type": "code",
   "execution_count": 21,
   "metadata": {
    "collapsed": true
   },
   "outputs": [],
   "source": [
    "#generujemy model Test:\n",
    "lift[[\"Test\"]] <- performance(prediction.object[[\"Test\"]], \"lift\", \"rpp\")\n"
   ]
  },
  {
   "cell_type": "code",
   "execution_count": 22,
   "metadata": {},
   "outputs": [
    {
     "data": {
      "image/png": "[encoded data removed]",
      "text/plain": [
       "Plot with title \"Krzywa Lift\""
      ]
     },
     "metadata": {},
     "output_type": "display_data"
    }
   ],
   "source": [
    "for (i in 1:length(class))\n",
    "    {\n",
    "    plot(lift[[i]], main = paste(\"Krzywa Lift\"), col = i, lwd = 2, add = (i != 1),  xlim = c(0, 1), ylim = c(1,2.5))\n",
    "    legend(\"topright\", lty = 1, lwd = 2, col = 1:4, y.intersp = .8,\n",
    "         legend = c(names(lift)), seg.len = 0.5, bty = \"n\")\n",
    "}"
   ]
  },
  {
   "cell_type": "markdown",
   "metadata": {},
   "source": [
    "Krzywa <i>lift</i> informuje nas o tym o ile lepszy jest wybrany przez nas model w stosunku do losowego przyporządkowywania kategorii."
   ]
  },
  {
   "cell_type": "markdown",
   "metadata": {},
   "source": [
    "### 1.3. Krzywa ROC"
   ]
  },
  {
   "cell_type": "markdown",
   "metadata": {},
   "source": [
    "Krzywa ROC (<i>Receiver Operating Characteristic<i>) przedstawia uporządkowane pary $(FPR(T),TPR(T))$, gdzie $FPR(T)$ (<i>false positive rate</i>) oznacza stosunek liczby obserwacji fałszywie zaklasyfikowanych jako pozytywne do liczby naprawdę fałszywych obserwacji: $FPR(T) = \\dfrac{\\sum_{i=1}^{n}[p_i > T \\land y_i =0]}{\\sum_{i=1}{n} [y_i =0]}$. Wyrażenie $1-FPR(T)$ nazywamy też specyficznością (<i>specificity</i>) klasyfikatora."
   ]
  },
  {
   "cell_type": "markdown",
   "metadata": {},
   "source": [
    "Krzywą <i>ROC</i> tworzymy poprzez odkładanie na wykresie wyliczonych dla danego modelu wartości $(FPR(T),TPR(T))$ dla różnych $T \\in (0,1)$."
   ]
  },
  {
   "cell_type": "markdown",
   "metadata": {},
   "source": [
    "Aby lepiej zrozumieć działanie krzywej ROC przedstawmy na wykresie 2 skrajności: model całkowicie losowy (<i>Random<i>) i model dosknonale prognozujący (<i>Wizard</i>):"
   ]
  },
  {
   "cell_type": "code",
   "execution_count": 26,
   "metadata": {
    "collapsed": true
   },
   "outputs": [],
   "source": [
    "#generujemy model Random:\n",
    "roc[[\"Random\"]] <- performance(prediction.object[[\"Random\"]], \"tpr\", \"fpr\")\n",
    "auc[[\"Random\"]] <- performance(prediction.object[[\"Random\"]], \"auc\")"
   ]
  },
  {
   "cell_type": "code",
   "execution_count": 27,
   "metadata": {
    "collapsed": true
   },
   "outputs": [],
   "source": [
    "#generujemy model Wizard:\n",
    "roc[[\"Wizard\"]] <- performance(prediction.object[[\"Wizard\"]], \"tpr\", \"fpr\")\n",
    "auc[[\"Wizard\"]] <- performance(prediction.object[[\"Wizard\"]], \"auc\")"
   ]
  },
  {
   "cell_type": "code",
   "execution_count": 28,
   "metadata": {},
   "outputs": [
    {
     "data": {
      "image/png": "[encoded data removed]",
      "text/plain": [
       "Plot with title \"Krzywa ROC\""
      ]
     },
     "metadata": {},
     "output_type": "display_data"
    }
   ],
   "source": [
    "for (i in 1:2)\n",
    "    {\n",
    "    plot(roc[[i]], main = paste(\"Krzywa ROC\"), col = i, lwd = 2, add = (i != 1),  xlim = c(0, 1))\n",
    "    legend(\"right\", lty = 1, lwd = 2, col = 1:4, y.intersp = .8,\n",
    "         legend = c(names(roc)), seg.len = 0.5, bty = \"n\")\n",
    "}"
   ]
  },
  {
   "cell_type": "markdown",
   "metadata": {},
   "source": [
    "Podobnie jak w przypadku krzywej <i>gain</i>  krzywa <i>Random</i>  ma zawsze równanie $TPR(T) = FPR(T)$. Krzywa <i>Wizard</i> jest de facto jednym punktem $(0,1)$ ($TPR(T) = 1$ i  $FPR(T) =0$)."
   ]
  },
  {
   "cell_type": "markdown",
   "metadata": {},
   "source": [
    "Dodajmy do wykresu wartości dla oszacowań na zbiorze trenującym i zbiorze testowym:"
   ]
  },
  {
   "cell_type": "code",
   "execution_count": 29,
   "metadata": {
    "collapsed": true
   },
   "outputs": [],
   "source": [
    "#generujemy model Train:\n",
    "\n",
    "roc[[\"Train\"]] <- performance(prediction.object[[\"Train\"]], \"tpr\", \"fpr\")\n",
    "auc[[\"Train\"]] <- performance(prediction.object[[\"Train\"]], \"auc\")"
   ]
  },
  {
   "cell_type": "code",
   "execution_count": 30,
   "metadata": {
    "collapsed": true
   },
   "outputs": [],
   "source": [
    "#generujemy model Test:\n",
    "\n",
    "roc[[\"Test\"]] <- performance(prediction.object[[\"Test\"]], \"tpr\", \"fpr\")\n",
    "auc[[\"Test\"]] <- performance(prediction.object[[\"Test\"]], \"auc\")"
   ]
  },
  {
   "cell_type": "code",
   "execution_count": 31,
   "metadata": {},
   "outputs": [
    {
     "data": {
      "image/png": "[encoded data removed]",
      "text/plain": [
       "Plot with title \"Krzywa ROC\""
      ]
     },
     "metadata": {},
     "output_type": "display_data"
    }
   ],
   "source": [
    "for (i in 1:length(class))\n",
    "    {\n",
    "    plot(roc[[i]], main = paste(\"Krzywa ROC\"), col = i, lwd = 2, add = (i != 1),  xlim = c(0, 1))\n",
    "    legend(\"right\", lty = 1, lwd = 2, col = 1:4, y.intersp = .8,\n",
    "         legend = c(names(roc)), seg.len = 0.5, bty = \"n\")\n",
    "}"
   ]
  },
  {
   "cell_type": "markdown",
   "metadata": {},
   "source": [
    "Podobnie jak w przypadku krzywej <i>gain</i> wyboru modelu dokonujemy poprzez znalezienie takiego, którego przebieg jest jak najbardziej zbliżony do modelu <i>Wizard</i>. Analogicznie oceniamy też różnice w predykcji modelu pomiędzy zbiorem testowym i zbiorem trenującym."
   ]
  },
  {
   "cell_type": "markdown",
   "metadata": {},
   "source": [
    "Ważnym i często wykorzystywanym narzędziem oceny jakości modelu, które wynika bezpośrednio z przebiegu krzywej <i>ROC</i> jest pole powierzchni pod tą krzywą <i>AUC</i> (<i>area under curve</i>). Pozwala ona ocenić jaka jest jakość predykcji modeli niezależnie od wybranego $T$. Dla modelu <i>Wizard</i> pole jest zawsze równe 1 dla modelu <i>Random</i> 0.5. Dodajmy oszacowania <i>AUC</i> do wykresu:"
   ]
  },
  {
   "cell_type": "code",
   "execution_count": 32,
   "metadata": {},
   "outputs": [
    {
     "data": {
      "image/png": "[encoded data removed]",
      "text/plain": [
       "Plot with title \"Krzywa ROC\""
      ]
     },
     "metadata": {},
     "output_type": "display_data"
    }
   ],
   "source": [
    "for (i in 1:length(class))\n",
    "    {\n",
    "    plot(roc[[i]], main = paste(\"Krzywa ROC\"), col = i, lwd = 2, add = (i != 1),  xlim = c(0, 1))\n",
    "    legend(\"right\", lty = 1, lwd = 2, col = 1:4, y.intersp = .8,\n",
    "         legend = c(names(roc)), seg.len = 0.5, bty = \"n\")\n",
    "    text(.2, 0.9 - i * 0.1, pos = 4, col = i, cex = .9,\n",
    "           paste(\"AUC =\", round(auc[[i]]@y.values[[1]], digit = 2)))\n",
    "}"
   ]
  },
  {
   "cell_type": "markdown",
   "metadata": {},
   "source": [
    "Ponadto krzywa <i>ROC</i> pozwala na wybór odpowiedniego progu odcięcia $T$. Gdy z góry nic nie zakładamy na jego temat potencjalnym wyborem jest ten gdzie czułość jest równa specyficzności $TPR(T) = 1 - FPR(T)$. Szukamy odpowiedniego punktu na wykresie i odczytujemy wartość. \n",
    "\n",
    "Na podstawie krzywej <i>ROC</i> możliwa jest też optymalizacja progu. \n",
    "\n",
    "Jak wiemy najlepszy możliwy model to taki, który jest możliwie jak najblżej punktu $(0,1)$. Szukamy więc takiej wartości progu odcięcia, która minimalizuje odległość modelu od tego punktu."
   ]
  },
  {
   "cell_type": "markdown",
   "metadata": {},
   "source": [
    "Możliwe jest też wyznaczenie tego w odwrotny sposób - szukając modelu najmocniej oddalonego od krzywej <i>Random</i>. Wykorzystujemy do tego [indeks J Youdena](https://en.wikipedia.org/wiki/Youden's_J_statistic)."
   ]
  },
  {
   "cell_type": "markdown",
   "metadata": {},
   "source": [
    "### 1.4. Warunkowe funkcje gęstości"
   ]
  },
  {
   "cell_type": "markdown",
   "metadata": {},
   "source": [
    "Ostatnim wykresem, który wygenerujemy i który pozwoli nam na ocenę jakości predykcji jest warunkowa funkcja gęstości <i>score'u</i> dla klientów, którzy otrzymali kartę kredytową. "
   ]
  },
  {
   "cell_type": "code",
   "execution_count": 33,
   "metadata": {},
   "outputs": [
    {
     "data": {
      "image/png": "[encoded data removed]",
      "text/plain": [
       "Plot with title \"Warunkowe funkcje gęstości score'u\""
      ]
     },
     "metadata": {},
     "output_type": "display_data"
    }
   ],
   "source": [
    "class0.score.density <- class1.score.density <- list()\n",
    "max.density <- 0\n",
    "for(i in 1:(length(prediction.object))) {\n",
    "    predictions <- prediction.object[[i]]@predictions[[1]]\n",
    "    labels <- prediction.object[[i]]@labels[[1]]\n",
    "  class0.score.density[[i]] <- density(predictions[labels == \"0\"],\n",
    "                                       kernel =  \"epanechnikov\", bw = 0.05)\n",
    "  class1.score.density[[i]] <- density(predictions[labels == \"1\"],\n",
    "                                       kernel =  \"epanechnikov\", bw = 0.05)\n",
    "    max.density <- max(class0.score.density[[i]]$y,\n",
    "                     class1.score.density[[i]]$y, max.density)\n",
    "}   \n",
    "plot(0, 0, type = \"n\", xlim = c(-0.1, 1.1), ylim = c(0, max.density),\n",
    "     xlab = \"Score\", ylab = \"Wartość funkcji gęstości\",\n",
    "     main = \"Warunkowe funkcje gęstości score'u\")\n",
    "for(i in 1:2) {\n",
    "    lines(class0.score.density[[i]], col = i, lwd = 2)\n",
    "    lines(class1.score.density[[i]], col = i, lwd = 2, lty=2)\n",
    "}   \n",
    "legend(\"top\", lty = 1, lwd = 2, col=1:4, y.intersp = .8,\n",
    "         legend = names(prediction.object)[1:2], seg.len = 0.5, bty = \"n\")\n"
   ]
  },
  {
   "cell_type": "markdown",
   "metadata": {},
   "source": [
    "Linią ciągłą narysowana jest funkcja dla etykiety 0 a przerywaną dla etykiety 1. De facto rozkład dla klasyfikatora idealnego jest skumulowany w 2 punktach: 0 i 1, kształt krzywych jest wynikiem ich wygładzenia. Co ważne, te dwa rozkłady nie pokrywają się. Ich przeciwnieństwem jest rozkład dla klasyfikatora <i>Random</i>, który dla obu etykiet doskonale się pokrywa. "
   ]
  },
  {
   "cell_type": "markdown",
   "metadata": {},
   "source": [
    "Dodajmy jeszcze funkcje dla modelu na zbiorach trenującym i testowym:"
   ]
  },
  {
   "cell_type": "code",
   "execution_count": 34,
   "metadata": {},
   "outputs": [
    {
     "data": {
      "image/png": "[encoded data removed]",
      "text/plain": [
       "Plot with title \"Warunkowe funkcje gęstości score'u\""
      ]
     },
     "metadata": {},
     "output_type": "display_data"
    }
   ],
   "source": [
    "plot(0, 0, type = \"n\", xlim = c(-0.1, 1.1), ylim = c(0, max.density),\n",
    "     xlab = \"Score\", ylab = \"Wartość funkcji gęstości\",\n",
    "     main = \"Warunkowe funkcje gęstości score'u\")\n",
    "for(i in 1:length(prediction.object)) {\n",
    "    lines(class0.score.density[[i]], col = i, lwd = 2)\n",
    "    lines(class1.score.density[[i]], col = i, lwd = 2, lty=2)\n",
    "}   \n",
    "legend(\"top\", lty = 1, lwd = 2, col=1:4, y.intersp = .8,\n",
    "         legend = names(prediction.object), seg.len = 0.5, bty = \"n\")\n"
   ]
  },
  {
   "cell_type": "markdown",
   "metadata": {},
   "source": [
    "Badając warunkowe funkcje gęstości szukamy takich, które jak najlepiej dyskryminują badane zmienne, czyli takich dla których część wspólna na wykresie jest możliwie jak najmniejsza."
   ]
  }
 ],
 "metadata": {
  "kernelspec": {
   "display_name": "R",
   "language": "R",
   "name": "ir"
  },
  "language_info": {
   "codemirror_mode": "r",
   "file_extension": ".r",
   "mimetype": "text/x-r-source",
   "name": "R",
   "pygments_lexer": "r",
   "version": "3.4.3"
  }
 },
 "nbformat": 4,
 "nbformat_minor": 2
}
