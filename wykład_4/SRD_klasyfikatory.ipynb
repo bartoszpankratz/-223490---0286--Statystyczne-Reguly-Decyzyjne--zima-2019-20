{
 "cells": [
  {
   "cell_type": "code",
   "execution_count": 1,
   "metadata": {
    "collapsed": true
   },
   "outputs": [],
   "source": [
    "import io\n",
    "import requests\n",
    "import pandas as pd\n",
    "import numpy as np"
   ]
  },
  {
   "cell_type": "code",
   "execution_count": 3,
   "metadata": {},
   "outputs": [
    {
     "data": {
      "text/html": [
       "<div>\n",
       "<style>\n",
       "    .dataframe thead tr:only-child th {\n",
       "        text-align: right;\n",
       "    }\n",
       "\n",
       "    .dataframe thead th {\n",
       "        text-align: left;\n",
       "    }\n",
       "\n",
       "    .dataframe tbody tr th {\n",
       "        vertical-align: top;\n",
       "    }\n",
       "</style>\n",
       "<table border=\"1\" class=\"dataframe\">\n",
       "  <thead>\n",
       "    <tr style=\"text-align: right;\">\n",
       "      <th></th>\n",
       "      <th>Private</th>\n",
       "      <th>Apps</th>\n",
       "      <th>Accept</th>\n",
       "      <th>Enroll</th>\n",
       "      <th>Top10perc</th>\n",
       "      <th>Top25perc</th>\n",
       "      <th>F.Undergrad</th>\n",
       "      <th>P.Undergrad</th>\n",
       "      <th>Outstate</th>\n",
       "      <th>Room.Board</th>\n",
       "      <th>Books</th>\n",
       "      <th>Personal</th>\n",
       "      <th>PhD</th>\n",
       "      <th>Terminal</th>\n",
       "      <th>S.F.Ratio</th>\n",
       "      <th>perc.alumni</th>\n",
       "      <th>Expend</th>\n",
       "      <th>Grad.Rate</th>\n",
       "    </tr>\n",
       "  </thead>\n",
       "  <tbody>\n",
       "    <tr>\n",
       "      <th>0</th>\n",
       "      <td>1</td>\n",
       "      <td>1660</td>\n",
       "      <td>1232</td>\n",
       "      <td>721</td>\n",
       "      <td>23</td>\n",
       "      <td>52</td>\n",
       "      <td>2885</td>\n",
       "      <td>537</td>\n",
       "      <td>7440</td>\n",
       "      <td>3300</td>\n",
       "      <td>450</td>\n",
       "      <td>2200</td>\n",
       "      <td>70</td>\n",
       "      <td>78</td>\n",
       "      <td>18.1</td>\n",
       "      <td>12</td>\n",
       "      <td>7041</td>\n",
       "      <td>60</td>\n",
       "    </tr>\n",
       "    <tr>\n",
       "      <th>1</th>\n",
       "      <td>1</td>\n",
       "      <td>2186</td>\n",
       "      <td>1924</td>\n",
       "      <td>512</td>\n",
       "      <td>16</td>\n",
       "      <td>29</td>\n",
       "      <td>2683</td>\n",
       "      <td>1227</td>\n",
       "      <td>12280</td>\n",
       "      <td>6450</td>\n",
       "      <td>750</td>\n",
       "      <td>1500</td>\n",
       "      <td>29</td>\n",
       "      <td>30</td>\n",
       "      <td>12.2</td>\n",
       "      <td>16</td>\n",
       "      <td>10527</td>\n",
       "      <td>56</td>\n",
       "    </tr>\n",
       "    <tr>\n",
       "      <th>2</th>\n",
       "      <td>1</td>\n",
       "      <td>1428</td>\n",
       "      <td>1097</td>\n",
       "      <td>336</td>\n",
       "      <td>22</td>\n",
       "      <td>50</td>\n",
       "      <td>1036</td>\n",
       "      <td>99</td>\n",
       "      <td>11250</td>\n",
       "      <td>3750</td>\n",
       "      <td>400</td>\n",
       "      <td>1165</td>\n",
       "      <td>53</td>\n",
       "      <td>66</td>\n",
       "      <td>12.9</td>\n",
       "      <td>30</td>\n",
       "      <td>8735</td>\n",
       "      <td>54</td>\n",
       "    </tr>\n",
       "    <tr>\n",
       "      <th>3</th>\n",
       "      <td>1</td>\n",
       "      <td>417</td>\n",
       "      <td>349</td>\n",
       "      <td>137</td>\n",
       "      <td>60</td>\n",
       "      <td>89</td>\n",
       "      <td>510</td>\n",
       "      <td>63</td>\n",
       "      <td>12960</td>\n",
       "      <td>5450</td>\n",
       "      <td>450</td>\n",
       "      <td>875</td>\n",
       "      <td>92</td>\n",
       "      <td>97</td>\n",
       "      <td>7.7</td>\n",
       "      <td>37</td>\n",
       "      <td>19016</td>\n",
       "      <td>59</td>\n",
       "    </tr>\n",
       "    <tr>\n",
       "      <th>4</th>\n",
       "      <td>1</td>\n",
       "      <td>193</td>\n",
       "      <td>146</td>\n",
       "      <td>55</td>\n",
       "      <td>16</td>\n",
       "      <td>44</td>\n",
       "      <td>249</td>\n",
       "      <td>869</td>\n",
       "      <td>7560</td>\n",
       "      <td>4120</td>\n",
       "      <td>800</td>\n",
       "      <td>1500</td>\n",
       "      <td>76</td>\n",
       "      <td>72</td>\n",
       "      <td>11.9</td>\n",
       "      <td>2</td>\n",
       "      <td>10922</td>\n",
       "      <td>15</td>\n",
       "    </tr>\n",
       "  </tbody>\n",
       "</table>\n",
       "</div>"
      ],
      "text/plain": [
       "   Private  Apps  Accept  Enroll  Top10perc  Top25perc  F.Undergrad  \\\n",
       "0        1  1660    1232     721         23         52         2885   \n",
       "1        1  2186    1924     512         16         29         2683   \n",
       "2        1  1428    1097     336         22         50         1036   \n",
       "3        1   417     349     137         60         89          510   \n",
       "4        1   193     146      55         16         44          249   \n",
       "\n",
       "   P.Undergrad  Outstate  Room.Board  Books  Personal  PhD  Terminal  \\\n",
       "0          537      7440        3300    450      2200   70        78   \n",
       "1         1227     12280        6450    750      1500   29        30   \n",
       "2           99     11250        3750    400      1165   53        66   \n",
       "3           63     12960        5450    450       875   92        97   \n",
       "4          869      7560        4120    800      1500   76        72   \n",
       "\n",
       "   S.F.Ratio  perc.alumni  Expend  Grad.Rate  \n",
       "0       18.1           12    7041         60  \n",
       "1       12.2           16   10527         56  \n",
       "2       12.9           30    8735         54  \n",
       "3        7.7           37   19016         59  \n",
       "4       11.9            2   10922         15  "
      ]
     },
     "execution_count": 3,
     "metadata": {},
     "output_type": "execute_result"
    }
   ],
   "source": [
    "url=\"https://raw.githubusercontent.com/vincentarelbundock/Rdatasets/master/csv/ISLR/College.csv\"\n",
    "s=requests.get(url).content\n",
    "data =pd.read_csv(io.StringIO(s.decode('utf-8')), delimiter = \",\")\n",
    "del data[\"Unnamed: 0\"]\n",
    "data[\"Private\"] = pd.get_dummies(data[\"Private\"],drop_first=True)\n",
    "data.head()"
   ]
  },
  {
   "cell_type": "code",
   "execution_count": 4,
   "metadata": {
    "collapsed": true
   },
   "outputs": [],
   "source": [
    "from sklearn.model_selection import train_test_split\n",
    "data_train, data_test = train_test_split(data, train_size = 0.7)"
   ]
  },
  {
   "cell_type": "code",
   "execution_count": 5,
   "metadata": {
    "collapsed": true
   },
   "outputs": [],
   "source": [
    "train, validate, test = np.split(data.sample(frac=1), [int(.5*len(data)), int(.75*len(data))])"
   ]
  },
  {
   "cell_type": "code",
   "execution_count": 6,
   "metadata": {},
   "outputs": [
    {
     "data": {
      "text/html": [
       "<div>\n",
       "<style>\n",
       "    .dataframe thead tr:only-child th {\n",
       "        text-align: right;\n",
       "    }\n",
       "\n",
       "    .dataframe thead th {\n",
       "        text-align: left;\n",
       "    }\n",
       "\n",
       "    .dataframe tbody tr th {\n",
       "        vertical-align: top;\n",
       "    }\n",
       "</style>\n",
       "<table border=\"1\" class=\"dataframe\">\n",
       "  <thead>\n",
       "    <tr style=\"text-align: right;\">\n",
       "      <th></th>\n",
       "      <th>Apps</th>\n",
       "      <th>Accept</th>\n",
       "      <th>Enroll</th>\n",
       "      <th>Top10perc</th>\n",
       "      <th>Top25perc</th>\n",
       "      <th>F.Undergrad</th>\n",
       "      <th>P.Undergrad</th>\n",
       "      <th>Outstate</th>\n",
       "      <th>Room.Board</th>\n",
       "      <th>Books</th>\n",
       "      <th>Personal</th>\n",
       "      <th>PhD</th>\n",
       "      <th>Terminal</th>\n",
       "      <th>S.F.Ratio</th>\n",
       "      <th>perc.alumni</th>\n",
       "      <th>Expend</th>\n",
       "      <th>Grad.Rate</th>\n",
       "    </tr>\n",
       "  </thead>\n",
       "  <tbody>\n",
       "    <tr>\n",
       "      <th>370</th>\n",
       "      <td>610</td>\n",
       "      <td>461</td>\n",
       "      <td>189</td>\n",
       "      <td>26</td>\n",
       "      <td>52</td>\n",
       "      <td>685</td>\n",
       "      <td>49</td>\n",
       "      <td>8200</td>\n",
       "      <td>3300</td>\n",
       "      <td>550</td>\n",
       "      <td>1000</td>\n",
       "      <td>63</td>\n",
       "      <td>69</td>\n",
       "      <td>12.0</td>\n",
       "      <td>16</td>\n",
       "      <td>8128</td>\n",
       "      <td>64</td>\n",
       "    </tr>\n",
       "    <tr>\n",
       "      <th>738</th>\n",
       "      <td>6502</td>\n",
       "      <td>3539</td>\n",
       "      <td>1372</td>\n",
       "      <td>11</td>\n",
       "      <td>51</td>\n",
       "      <td>7484</td>\n",
       "      <td>1904</td>\n",
       "      <td>7844</td>\n",
       "      <td>4108</td>\n",
       "      <td>400</td>\n",
       "      <td>2000</td>\n",
       "      <td>76</td>\n",
       "      <td>79</td>\n",
       "      <td>15.3</td>\n",
       "      <td>16</td>\n",
       "      <td>6773</td>\n",
       "      <td>52</td>\n",
       "    </tr>\n",
       "    <tr>\n",
       "      <th>456</th>\n",
       "      <td>1132</td>\n",
       "      <td>847</td>\n",
       "      <td>302</td>\n",
       "      <td>58</td>\n",
       "      <td>89</td>\n",
       "      <td>1379</td>\n",
       "      <td>214</td>\n",
       "      <td>16200</td>\n",
       "      <td>4200</td>\n",
       "      <td>436</td>\n",
       "      <td>2486</td>\n",
       "      <td>90</td>\n",
       "      <td>90</td>\n",
       "      <td>10.4</td>\n",
       "      <td>14</td>\n",
       "      <td>14329</td>\n",
       "      <td>62</td>\n",
       "    </tr>\n",
       "    <tr>\n",
       "      <th>212</th>\n",
       "      <td>346</td>\n",
       "      <td>274</td>\n",
       "      <td>146</td>\n",
       "      <td>51</td>\n",
       "      <td>87</td>\n",
       "      <td>704</td>\n",
       "      <td>63</td>\n",
       "      <td>9900</td>\n",
       "      <td>3670</td>\n",
       "      <td>630</td>\n",
       "      <td>1818</td>\n",
       "      <td>59</td>\n",
       "      <td>59</td>\n",
       "      <td>10.5</td>\n",
       "      <td>14</td>\n",
       "      <td>8095</td>\n",
       "      <td>54</td>\n",
       "    </tr>\n",
       "    <tr>\n",
       "      <th>569</th>\n",
       "      <td>8598</td>\n",
       "      <td>4562</td>\n",
       "      <td>1143</td>\n",
       "      <td>56</td>\n",
       "      <td>93</td>\n",
       "      <td>5060</td>\n",
       "      <td>146</td>\n",
       "      <td>6550</td>\n",
       "      <td>4170</td>\n",
       "      <td>600</td>\n",
       "      <td>650</td>\n",
       "      <td>79</td>\n",
       "      <td>84</td>\n",
       "      <td>19.1</td>\n",
       "      <td>25</td>\n",
       "      <td>5716</td>\n",
       "      <td>76</td>\n",
       "    </tr>\n",
       "  </tbody>\n",
       "</table>\n",
       "</div>"
      ],
      "text/plain": [
       "     Apps  Accept  Enroll  Top10perc  Top25perc  F.Undergrad  P.Undergrad  \\\n",
       "370   610     461     189         26         52          685           49   \n",
       "738  6502    3539    1372         11         51         7484         1904   \n",
       "456  1132     847     302         58         89         1379          214   \n",
       "212   346     274     146         51         87          704           63   \n",
       "569  8598    4562    1143         56         93         5060          146   \n",
       "\n",
       "     Outstate  Room.Board  Books  Personal  PhD  Terminal  S.F.Ratio  \\\n",
       "370      8200        3300    550      1000   63        69       12.0   \n",
       "738      7844        4108    400      2000   76        79       15.3   \n",
       "456     16200        4200    436      2486   90        90       10.4   \n",
       "212      9900        3670    630      1818   59        59       10.5   \n",
       "569      6550        4170    600       650   79        84       19.1   \n",
       "\n",
       "     perc.alumni  Expend  Grad.Rate  \n",
       "370           16    8128         64  \n",
       "738           16    6773         52  \n",
       "456           14   14329         62  \n",
       "212           14    8095         54  \n",
       "569           25    5716         76  "
      ]
     },
     "execution_count": 6,
     "metadata": {},
     "output_type": "execute_result"
    }
   ],
   "source": [
    "scale_train = data_train.iloc[:,1::]\n",
    "scale_test = data_test.iloc[:,1::]\n",
    "scale_train.head()"
   ]
  },
  {
   "cell_type": "code",
   "execution_count": 7,
   "metadata": {},
   "outputs": [
    {
     "data": {
      "text/plain": [
       "StandardScaler(copy=True, with_mean=True, with_std=True)"
      ]
     },
     "execution_count": 7,
     "metadata": {},
     "output_type": "execute_result"
    }
   ],
   "source": [
    "from sklearn.preprocessing import StandardScaler\n",
    "scaler = StandardScaler()\n",
    "scaler.fit(scale_train)"
   ]
  },
  {
   "cell_type": "code",
   "execution_count": 8,
   "metadata": {},
   "outputs": [
    {
     "data": {
      "text/html": [
       "<div>\n",
       "<style>\n",
       "    .dataframe thead tr:only-child th {\n",
       "        text-align: right;\n",
       "    }\n",
       "\n",
       "    .dataframe thead th {\n",
       "        text-align: left;\n",
       "    }\n",
       "\n",
       "    .dataframe tbody tr th {\n",
       "        vertical-align: top;\n",
       "    }\n",
       "</style>\n",
       "<table border=\"1\" class=\"dataframe\">\n",
       "  <thead>\n",
       "    <tr style=\"text-align: right;\">\n",
       "      <th></th>\n",
       "      <th>Apps</th>\n",
       "      <th>Accept</th>\n",
       "      <th>Enroll</th>\n",
       "      <th>Top10perc</th>\n",
       "      <th>Top25perc</th>\n",
       "      <th>F.Undergrad</th>\n",
       "      <th>P.Undergrad</th>\n",
       "      <th>Outstate</th>\n",
       "      <th>Room.Board</th>\n",
       "      <th>Books</th>\n",
       "      <th>Personal</th>\n",
       "      <th>PhD</th>\n",
       "      <th>Terminal</th>\n",
       "      <th>S.F.Ratio</th>\n",
       "      <th>perc.alumni</th>\n",
       "      <th>Expend</th>\n",
       "      <th>Grad.Rate</th>\n",
       "    </tr>\n",
       "  </thead>\n",
       "  <tbody>\n",
       "    <tr>\n",
       "      <th>58</th>\n",
       "      <td>-0.570998</td>\n",
       "      <td>-0.602032</td>\n",
       "      <td>-0.627774</td>\n",
       "      <td>-0.398507</td>\n",
       "      <td>-0.252867</td>\n",
       "      <td>-0.602849</td>\n",
       "      <td>-0.567420</td>\n",
       "      <td>-0.114087</td>\n",
       "      <td>-0.325661</td>\n",
       "      <td>-0.883322</td>\n",
       "      <td>-0.637199</td>\n",
       "      <td>0.268511</td>\n",
       "      <td>-0.558273</td>\n",
       "      <td>-0.212151</td>\n",
       "      <td>-0.287155</td>\n",
       "      <td>-0.080297</td>\n",
       "      <td>-0.436108</td>\n",
       "    </tr>\n",
       "    <tr>\n",
       "      <th>518</th>\n",
       "      <td>0.411711</td>\n",
       "      <td>0.641714</td>\n",
       "      <td>0.274119</td>\n",
       "      <td>-0.635646</td>\n",
       "      <td>-0.983223</td>\n",
       "      <td>0.177729</td>\n",
       "      <td>0.564013</td>\n",
       "      <td>0.419884</td>\n",
       "      <td>1.945781</td>\n",
       "      <td>0.624556</td>\n",
       "      <td>-0.491121</td>\n",
       "      <td>0.574046</td>\n",
       "      <td>0.321381</td>\n",
       "      <td>0.063682</td>\n",
       "      <td>-0.612678</td>\n",
       "      <td>0.120232</td>\n",
       "      <td>-0.084850</td>\n",
       "    </tr>\n",
       "    <tr>\n",
       "      <th>443</th>\n",
       "      <td>-0.507491</td>\n",
       "      <td>-0.465468</td>\n",
       "      <td>-0.537699</td>\n",
       "      <td>0.846472</td>\n",
       "      <td>0.842666</td>\n",
       "      <td>-0.542324</td>\n",
       "      <td>-0.603338</td>\n",
       "      <td>0.981826</td>\n",
       "      <td>-0.322017</td>\n",
       "      <td>-0.581746</td>\n",
       "      <td>-0.345043</td>\n",
       "      <td>0.268511</td>\n",
       "      <td>-0.219945</td>\n",
       "      <td>-0.813968</td>\n",
       "      <td>-0.043013</td>\n",
       "      <td>0.346449</td>\n",
       "      <td>-1.372796</td>\n",
       "    </tr>\n",
       "    <tr>\n",
       "      <th>581</th>\n",
       "      <td>2.916051</td>\n",
       "      <td>3.476523</td>\n",
       "      <td>6.422045</td>\n",
       "      <td>1.320750</td>\n",
       "      <td>1.573022</td>\n",
       "      <td>6.049078</td>\n",
       "      <td>1.554115</td>\n",
       "      <td>-1.326965</td>\n",
       "      <td>-0.852081</td>\n",
       "      <td>0.322980</td>\n",
       "      <td>1.180012</td>\n",
       "      <td>1.062903</td>\n",
       "      <td>0.795041</td>\n",
       "      <td>2.245270</td>\n",
       "      <td>0.526651</td>\n",
       "      <td>-0.200176</td>\n",
       "      <td>0.207866</td>\n",
       "    </tr>\n",
       "    <tr>\n",
       "      <th>672</th>\n",
       "      <td>-0.673975</td>\n",
       "      <td>-0.697422</td>\n",
       "      <td>-0.628915</td>\n",
       "      <td>-0.339222</td>\n",
       "      <td>-0.618045</td>\n",
       "      <td>-0.521000</td>\n",
       "      <td>-0.261332</td>\n",
       "      <td>-1.693880</td>\n",
       "      <td>-2.210939</td>\n",
       "      <td>0.322980</td>\n",
       "      <td>0.677504</td>\n",
       "      <td>-0.281453</td>\n",
       "      <td>-0.152279</td>\n",
       "      <td>2.370649</td>\n",
       "      <td>-1.589246</td>\n",
       "      <td>-1.117590</td>\n",
       "      <td>-1.314253</td>\n",
       "    </tr>\n",
       "  </tbody>\n",
       "</table>\n",
       "</div>"
      ],
      "text/plain": [
       "         Apps    Accept    Enroll  Top10perc  Top25perc  F.Undergrad  \\\n",
       "58  -0.570998 -0.602032 -0.627774  -0.398507  -0.252867    -0.602849   \n",
       "518  0.411711  0.641714  0.274119  -0.635646  -0.983223     0.177729   \n",
       "443 -0.507491 -0.465468 -0.537699   0.846472   0.842666    -0.542324   \n",
       "581  2.916051  3.476523  6.422045   1.320750   1.573022     6.049078   \n",
       "672 -0.673975 -0.697422 -0.628915  -0.339222  -0.618045    -0.521000   \n",
       "\n",
       "     P.Undergrad  Outstate  Room.Board     Books  Personal       PhD  \\\n",
       "58     -0.567420 -0.114087   -0.325661 -0.883322 -0.637199  0.268511   \n",
       "518     0.564013  0.419884    1.945781  0.624556 -0.491121  0.574046   \n",
       "443    -0.603338  0.981826   -0.322017 -0.581746 -0.345043  0.268511   \n",
       "581     1.554115 -1.326965   -0.852081  0.322980  1.180012  1.062903   \n",
       "672    -0.261332 -1.693880   -2.210939  0.322980  0.677504 -0.281453   \n",
       "\n",
       "     Terminal  S.F.Ratio  perc.alumni    Expend  Grad.Rate  \n",
       "58  -0.558273  -0.212151    -0.287155 -0.080297  -0.436108  \n",
       "518  0.321381   0.063682    -0.612678  0.120232  -0.084850  \n",
       "443 -0.219945  -0.813968    -0.043013  0.346449  -1.372796  \n",
       "581  0.795041   2.245270     0.526651 -0.200176   0.207866  \n",
       "672 -0.152279   2.370649    -1.589246 -1.117590  -1.314253  "
      ]
     },
     "execution_count": 8,
     "metadata": {},
     "output_type": "execute_result"
    }
   ],
   "source": [
    "scale_train.iloc[:,:] = scaler.transform(scale_train)\n",
    "scale_test.iloc[:,:] = scaler.transform(scale_test)\n",
    "scale_test.head()"
   ]
  },
  {
   "cell_type": "code",
   "execution_count": 9,
   "metadata": {},
   "outputs": [
    {
     "data": {
      "text/plain": [
       "LogisticRegression(C=1.0, class_weight=None, dual=False, fit_intercept=True,\n",
       "          intercept_scaling=1, max_iter=100, multi_class='ovr', n_jobs=1,\n",
       "          penalty='l2', random_state=None, solver='liblinear', tol=0.0001,\n",
       "          verbose=0, warm_start=False)"
      ]
     },
     "execution_count": 9,
     "metadata": {},
     "output_type": "execute_result"
    }
   ],
   "source": [
    "from sklearn import linear_model\n",
    "logreg = linear_model.LogisticRegression()\n",
    "logreg.fit(scale_train, data_train[\"Private\"])"
   ]
  },
  {
   "cell_type": "code",
   "execution_count": 10,
   "metadata": {},
   "outputs": [
    {
     "data": {
      "text/plain": [
       "array([[124,  15],\n",
       "       [ 12, 392]])"
      ]
     },
     "execution_count": 10,
     "metadata": {},
     "output_type": "execute_result"
    }
   ],
   "source": [
    "from sklearn.metrics import confusion_matrix\n",
    "Private_predicted = logreg.predict(scale_train)\n",
    "conf = confusion_matrix(data_train[\"Private\"],Private_predicted) \n",
    "conf"
   ]
  },
  {
   "cell_type": "code",
   "execution_count": 11,
   "metadata": {},
   "outputs": [
    {
     "data": {
      "text/plain": [
       "0.95027624309392267"
      ]
     },
     "execution_count": 11,
     "metadata": {},
     "output_type": "execute_result"
    }
   ],
   "source": [
    "from sklearn.metrics import accuracy_score\n",
    "acc = accuracy_score(data_train[\"Private\"],Private_predicted) \n",
    "acc\n"
   ]
  },
  {
   "cell_type": "code",
   "execution_count": 12,
   "metadata": {},
   "outputs": [
    {
     "data": {
      "text/plain": [
       "1.717419809620703"
      ]
     },
     "execution_count": 12,
     "metadata": {},
     "output_type": "execute_result"
    }
   ],
   "source": [
    "from sklearn.metrics import log_loss\n",
    "loss = log_loss(data_train[\"Private\"],Private_predicted)\n",
    "loss"
   ]
  },
  {
   "cell_type": "code",
   "execution_count": 13,
   "metadata": {},
   "outputs": [
    {
     "data": {
      "text/plain": [
       "array([ 0.91176471,  0.96314496])"
      ]
     },
     "execution_count": 13,
     "metadata": {},
     "output_type": "execute_result"
    }
   ],
   "source": [
    "from sklearn.metrics import recall_score\n",
    "from sklearn.metrics import precision_score\n",
    "prec = precision_score(data_train[\"Private\"],Private_predicted, average = None)\n",
    "prec"
   ]
  },
  {
   "cell_type": "code",
   "execution_count": 14,
   "metadata": {},
   "outputs": [
    {
     "data": {
      "text/plain": [
       "array([ 0.89208633,  0.97029703])"
      ]
     },
     "execution_count": 14,
     "metadata": {},
     "output_type": "execute_result"
    }
   ],
   "source": [
    "from sklearn.metrics import recall_score\n",
    "rec = recall_score(data_train[\"Private\"],Private_predicted, average = None)\n",
    "rec"
   ]
  },
  {
   "cell_type": "code",
   "execution_count": 17,
   "metadata": {},
   "outputs": [],
   "source": [
    "prob_predicted = logreg.predict_proba(scale_train)[:,1]"
   ]
  },
  {
   "cell_type": "code",
   "execution_count": 18,
   "metadata": {
    "collapsed": true
   },
   "outputs": [],
   "source": [
    "def conf_matrix(prob_predicted,values, treshold):\n",
    "    predicted_values = np.where(prob_predicted > treshold, 1, 0)\n",
    "    matrix = confusion_matrix(values, predicted_values) \n",
    "    return matrix"
   ]
  },
  {
   "cell_type": "code",
   "execution_count": 19,
   "metadata": {},
   "outputs": [
    {
     "data": {
      "text/plain": [
       "array([[124,  15],\n",
       "       [ 12, 392]])"
      ]
     },
     "execution_count": 19,
     "metadata": {},
     "output_type": "execute_result"
    }
   ],
   "source": [
    "conf_matrix(prob_predicted,data_train[\"Private\"], .5)"
   ]
  },
  {
   "cell_type": "code",
   "execution_count": 20,
   "metadata": {
    "collapsed": true
   },
   "outputs": [],
   "source": [
    "def sensitivity(prob_predicted,values, treshold):\n",
    "    matrix = conf_matrix(prob_predicted,values, treshold)\n",
    "    return matrix[1,1] / (matrix[1,0] + matrix[1,1])"
   ]
  },
  {
   "cell_type": "code",
   "execution_count": 21,
   "metadata": {},
   "outputs": [
    {
     "data": {
      "text/plain": [
       "0.97029702970297027"
      ]
     },
     "execution_count": 21,
     "metadata": {},
     "output_type": "execute_result"
    }
   ],
   "source": [
    "sensitivity(prob_predicted,data_train[\"Private\"], .5)"
   ]
  },
  {
   "cell_type": "code",
   "execution_count": 22,
   "metadata": {
    "collapsed": true
   },
   "outputs": [],
   "source": [
    "def precision(prob_predicted,values, treshold):\n",
    "    matrix = conf_matrix(prob_predicted,values, treshold)\n",
    "    return matrix[1,1] / (matrix[1,1] + matrix[0,1])"
   ]
  },
  {
   "cell_type": "code",
   "execution_count": 23,
   "metadata": {},
   "outputs": [
    {
     "data": {
      "text/plain": [
       "0.96314496314496312"
      ]
     },
     "execution_count": 23,
     "metadata": {},
     "output_type": "execute_result"
    }
   ],
   "source": [
    "precision(prob_predicted,data_train[\"Private\"], .5)"
   ]
  },
  {
   "cell_type": "code",
   "execution_count": 24,
   "metadata": {
    "collapsed": true
   },
   "outputs": [],
   "source": [
    "def specifity(prob_predicted,values, treshold):\n",
    "    matrix = conf_matrix(prob_predicted,values, treshold)\n",
    "    return matrix[0,0] / (matrix[0,0] + matrix[0,1])"
   ]
  },
  {
   "cell_type": "code",
   "execution_count": 25,
   "metadata": {},
   "outputs": [
    {
     "data": {
      "text/plain": [
       "0.8920863309352518"
      ]
     },
     "execution_count": 25,
     "metadata": {},
     "output_type": "execute_result"
    }
   ],
   "source": [
    "specifity(prob_predicted,data_train[\"Private\"], .5)"
   ]
  },
  {
   "cell_type": "code",
   "execution_count": 26,
   "metadata": {
    "collapsed": true
   },
   "outputs": [],
   "source": [
    "def f_beta(prob_predicted,values, beta, treshold):\n",
    "    rec = sensitivity(prob_predicted,values, treshold)\n",
    "    prec = precision(prob_predicted,values, treshold)\n",
    "    return 2 * prec * rec / (beta*prec + rec)"
   ]
  },
  {
   "cell_type": "code",
   "execution_count": 27,
   "metadata": {},
   "outputs": [
    {
     "data": {
      "text/plain": [
       "0.96670776818742288"
      ]
     },
     "execution_count": 27,
     "metadata": {},
     "output_type": "execute_result"
    }
   ],
   "source": [
    "f_beta(prob_predicted,data_train[\"Private\"],1, .5)"
   ]
  },
  {
   "cell_type": "code",
   "execution_count": 28,
   "metadata": {},
   "outputs": [
    {
     "data": {
      "text/plain": [
       "0.96670776818742288"
      ]
     },
     "execution_count": 28,
     "metadata": {},
     "output_type": "execute_result"
    }
   ],
   "source": [
    "from sklearn.metrics import f1_score\n",
    "from sklearn.metrics import fbeta_score\n",
    "f1 = f1_score(data_train[\"Private\"],Private_predicted)\n",
    "f1"
   ]
  },
  {
   "cell_type": "code",
   "execution_count": 30,
   "metadata": {},
   "outputs": [
    {
     "data": {
      "text/plain": [
       "0.96987338087614616"
      ]
     },
     "execution_count": 30,
     "metadata": {},
     "output_type": "execute_result"
    }
   ],
   "source": [
    "fbeta = fbeta_score(data_train[\"Private\"],Private_predicted, 4)\n",
    "fbeta"
   ]
  },
  {
   "cell_type": "code",
   "execution_count": 31,
   "metadata": {},
   "outputs": [
    {
     "data": {
      "text/plain": [
       "0.96882927962245957"
      ]
     },
     "execution_count": 31,
     "metadata": {},
     "output_type": "execute_result"
    }
   ],
   "source": [
    "np.median(prob_predicted)"
   ]
  },
  {
   "cell_type": "code",
   "execution_count": 32,
   "metadata": {
    "collapsed": true
   },
   "outputs": [],
   "source": [
    "def optimal_cutoff(prob_predicted,values,cost_matrix):\n",
    "    X = np.linspace(0.0,1.0,101)\n",
    "    Y = [calculate_cost(prob_predicted,values,cost_matrix, x) for x in X]\n",
    "    return X[Y.index(max(Y))]\n",
    "    "
   ]
  },
  {
   "cell_type": "code",
   "execution_count": 33,
   "metadata": {
    "collapsed": true
   },
   "outputs": [],
   "source": [
    "def calculate_cost(prob_predicted,values,cost_matrix, treshold):\n",
    "    conf = conf_matrix(prob_predicted,values, treshold)\n",
    "    return conf[0,0]*cost_matrix[0,0] + conf[1,0]*cost_matrix[1,0] + conf[0,1]*cost_matrix[0,1] + conf[1,1]*cost_matrix[1,1]"
   ]
  },
  {
   "cell_type": "code",
   "execution_count": 34,
   "metadata": {},
   "outputs": [
    {
     "data": {
      "text/plain": [
       "array([[ -50, -100],\n",
       "       [-100,  -50]])"
      ]
     },
     "execution_count": 34,
     "metadata": {},
     "output_type": "execute_result"
    }
   ],
   "source": [
    "cost_matrix = np.array([[-50, -100],[-100, -50]])\n",
    "cost_matrix"
   ]
  },
  {
   "cell_type": "code",
   "execution_count": 35,
   "metadata": {},
   "outputs": [
    {
     "data": {
      "text/plain": [
       "-28500"
      ]
     },
     "execution_count": 35,
     "metadata": {},
     "output_type": "execute_result"
    }
   ],
   "source": [
    "calculate_cost(prob_predicted,data_train[\"Private\"],cost_matrix, 0.5)"
   ]
  },
  {
   "cell_type": "code",
   "execution_count": 36,
   "metadata": {},
   "outputs": [
    {
     "data": {
      "text/plain": [
       "0.46000000000000002"
      ]
     },
     "execution_count": 36,
     "metadata": {},
     "output_type": "execute_result"
    }
   ],
   "source": [
    " optimal_cutoff(prob_predicted,data_train[\"Private\"],cost_matrix)"
   ]
  },
  {
   "cell_type": "code",
   "execution_count": 37,
   "metadata": {},
   "outputs": [
    {
     "data": {
      "text/plain": [
       "array([ 0.92727273,  0.96363636,  0.92727273,  0.92727273,  0.98148148,\n",
       "        0.92592593,  0.94444444,  0.94444444,  0.92592593,  0.9245283 ])"
      ]
     },
     "execution_count": 37,
     "metadata": {},
     "output_type": "execute_result"
    }
   ],
   "source": [
    "from sklearn.model_selection import cross_val_score\n",
    "scores = cross_val_score(logreg, scale_train, data_train[\"Private\"], cv=10)\n",
    "scores     "
   ]
  },
  {
   "cell_type": "code",
   "execution_count": 38,
   "metadata": {},
   "outputs": [
    {
     "data": {
      "text/plain": [
       "0.93922651933701662"
      ]
     },
     "execution_count": 38,
     "metadata": {},
     "output_type": "execute_result"
    }
   ],
   "source": [
    "from sklearn import metrics\n",
    "from sklearn.model_selection import cross_val_predict\n",
    "predicted = cross_val_predict(logreg, scale_train, data_train[\"Private\"], cv=10)\n",
    "metrics.accuracy_score( data_train[\"Private\"],  predicted) "
   ]
  },
  {
   "cell_type": "code",
   "execution_count": null,
   "metadata": {
    "collapsed": true
   },
   "outputs": [],
   "source": []
  }
 ],
 "metadata": {
  "kernelspec": {
   "display_name": "Python 3",
   "language": "python",
   "name": "python3"
  },
  "language_info": {
   "codemirror_mode": {
    "name": "ipython",
    "version": 3
   },
   "file_extension": ".py",
   "mimetype": "text/x-python",
   "name": "python",
   "nbconvert_exporter": "python",
   "pygments_lexer": "ipython3",
   "version": "3.6.1"
  }
 },
 "nbformat": 4,
 "nbformat_minor": 2
}
