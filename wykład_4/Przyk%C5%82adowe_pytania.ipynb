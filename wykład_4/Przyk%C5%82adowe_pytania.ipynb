{
 "cells": [
  {
   "cell_type": "markdown",
   "metadata": {},
   "source": [
    "# Przykładowe pytania - wykład 4"
   ]
  },
  {
   "cell_type": "markdown",
   "metadata": {},
   "source": [
    "<b>Uwaga! Pytania ze slajdów [prof. Kamińskiego](http://bogumilkaminski.pl/files/srd/w6_srd.pdf) nie obowiązują na egzaminie."
   ]
  },
  {
   "cell_type": "markdown",
   "metadata": {},
   "source": [
    "1. W jakich sytuacjach konieczna jest regularyzacja w regresji liniowej?\n",
    "2. Wyjaśnij w jaki sposób regularyzacja zmniejsza wariancję w regresji liniowej. \n",
    "3. Jaka jest idea i implementacja regresji grzbietowej?\n",
    "4. Jaka jest idea i implementacja regresji LASSO?\n",
    "5. Porównaj wady i zalety regresji grzbietowej vs LASSO.\n",
    "6. Jak wielkość zbioru danych uczących wpływa na potencjalne przeuczenie modelu?\n",
    "7. W jaki sposób konstruowane są krzywe Gain i Lift? \n",
    "8. W jaki sposób konstruowana jest krzywa ROC? Do wyznaczenia jakiej metryki można ją wykorzystać?\n",
    "9. W jaki sposób za pomocą krzywej ROC można wybrać optymalny próg odcięcia?\n",
    "10. Jakie informację można wyczytać za pomocą warunkowych funkcji gęstości dla zadanego klasyfikatora?"
   ]
  }
 ],
 "metadata": {
  "kernelspec": {
   "display_name": "Julia 1.0.0",
   "language": "julia",
   "name": "julia-1.0"
  },
  "language_info": {
   "file_extension": ".jl",
   "mimetype": "application/julia",
   "name": "julia",
   "version": "1.0.0"
  }
 },
 "nbformat": 4,
 "nbformat_minor": 2
}
