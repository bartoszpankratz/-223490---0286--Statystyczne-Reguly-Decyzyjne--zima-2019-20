{
 "cells": [
  {
   "cell_type": "markdown",
   "metadata": {},
   "source": [
    "# Praca Domowa - Statystyczne Reguły Decyzyjne, Zima 2019/2020 "
   ]
  },
  {
   "cell_type": "markdown",
   "metadata": {},
   "source": [
    "Celem pracy domowej jest zaproponowanie modelu przewidującego prawdopodobieństwo odejścia pracownika z pracy. Dane z pełnym opisem zmiennych dostepne są [tutaj](https://www.kaggle.com/vjchoudhary7/hr-analytics-case-study#general_data.csv), opis zmiennych dostępny jest w pliku <tt>data_dictionary.xlsx</tt> a dane z których należy skorzystać w pliku: <tt>general_data.csv</tt>. W ramach pracy domowej należy wykonać następujące zadania:\n",
    "\n",
    "1. Wczytaj zbiór danych i odpowiednio go przygotuj: zastąp/usuń potencjalne braki danych, w odpowiedni sposób zakoduj zmienne nominalne, znormalizuj zmienne.\n",
    "2. Odpowiednio podziel zbiór danych, aby móc przeprowadzić procedurę wyboru modelu.\n",
    "3. Oszacuj prostą regresję logistyczną (bez regularyzacji i usuwania zmiennych z modelu).\n",
    "4. Zastanów się jaka metryka jest odpowiednia do oceny jakość predykcji tego modelu. Odpowiedź uzasadnij. Weź pod uwagę strukturę danych i to, że interesuje nas efektywne wykrywanie osób mogących odejść z pracy.\n",
    "5. Korzystając z wybranej w poprzednim punkcie metryki oceń jakość modelu przy progu odcięcia równym $0.5$. \n",
    "6. Zoptymalizuj próg odcięcia, wybierając taki, dla którego wartość statystyki $J$ Youdena:\n",
    "$$J = TPR  + TNR - 1$$\n",
    "jest najwyższa. Statystykę $J$ możemy interpretować jako odległość jaka dzieli krzywą ROC klasyfikatora od krzywej dla klasyfikatora losowego:\n",
    "[![](https://upload.wikimedia.org/wikipedia/commons/thumb/6/68/ROC_Curve_Youden_J.png/330px-ROC_Curve_Youden_J.png)](https://en.wikipedia.org/wiki/Youden%27s_J_statistic)\n",
    "Jaka jest jakość predykcji dla optymalnego progu? \n",
    "7. Zaproponuj  model inny niż poprzednio oszacowana prosta regresja. Może on mieć dowolną postać, może być jednym z modeli omawianych na zajęciach (regresja z regularyzacją, las losowy, etc.) lub innym który znasz. Oszacuj model, pamiętaj o tym, żeby wybrać takie (hiper)parametry modelu, które zapewnią możliwie najlepszą jakość predykcji.\n",
    "<b>Uwaga: Najlepsze zaproponowane modele zostaną nagrodzone dodatkowymi punktami! </b>\n",
    "8. Zoptymalizuj jego próg odcięcia, tak samo jak w punkcie 6.\n",
    "9. Porównaj model z regresją logistyczną z punktu 3. Który z modeli jest lepszy dla progu odcięcia $0.5$, a który gdy wyznaczone są optymalne progi? Dlaczego? Jaka jest jego ostateczna jakość predykcji? \n",
    "\n",
    "Zadanie może być wykonane w <b>Pythonie</b> lub <b>R</b>, należy je wysłać na adres [bpankra@sgh.waw.pl](mailto:bpankra@sgh.waw.pl) jako plik <tt>zip</tt>. Paczka powinna zawierać:\n",
    "- skrypt w wybranym języku z wszystkimi kodami potrzebnymi do wykonania zadania i plikiem tekstowym (format: <tt>doc, docx, pdf, html</tt>) z opisem wszystkich kolejnym kroków i odpowiedziami na zadane pytania.\n",
    "\n",
    "albo:\n",
    "\n",
    "- plik <tt>ipynb</tt> zawierający zarówno kod jak i odpowiedzi na pytania, jak i wygenerowany na jego podstawie plik <tt>html</tt>.\n",
    "\n",
    "<b>Termin oddania: 27 stycznia 2020.</b>"
   ]
  }
 ],
 "metadata": {
  "kernelspec": {
   "display_name": "Julia 1.0.0",
   "language": "julia",
   "name": "julia-1.0"
  },
  "language_info": {
   "file_extension": ".jl",
   "mimetype": "application/julia",
   "name": "julia",
   "version": "1.0.0"
  }
 },
 "nbformat": 4,
 "nbformat_minor": 2
}
