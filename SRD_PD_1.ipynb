{
 "cells": [
  {
   "cell_type": "markdown",
   "metadata": {
    "collapsed": true
   },
   "source": [
    "# SRD  praca domowa 1"
   ]
  },
  {
   "cell_type": "markdown",
   "metadata": {},
   "source": [
    "<b> Termin oddania: 4.02.2021</b>\n",
    "\n",
    "Rozwiązane zadania można wysyłać w 2 formatach. Albo jako skrypt Julii, Pythona lub R  z komentarzami określającymi numer rozwiązywanego zadania i odpowiedziami na zadane pytania, albo jako uzupełniony notatnik z poleceniami (format <tt>.ipynb</tt>) razem z wygenerowanym na jego podstawie plikiem <tt>.html</tt>. Można to zrobić drogą mailową wysyłając plik lub pliki na adres [bpankra@sgh.waw.pl](mailto:bpankra@sgh.waw.pl)"
   ]
  },
  {
   "cell_type": "markdown",
   "metadata": {},
   "source": [
    "## Zad 1 \n",
    "\n",
    "Ze strony [http://dni-institute.in/blogs/project-binary-decision-variable/](http://dni-institute.in/blogs/project-binary-decision-variable/) Pobierz zbiór <tt>GermanCredit</tt> (opis dostępny [tutaj](http://dni-institute.in/blogs/logistic-regression-using-r-german-credit-example/)) opisujący scoring kredytowy osób ubiegających się o kredyt. Celem zadania jest zaproponowanie odpowiedniego klasyfikatora pozwalającego na wyróżnienie złych i dobrych kredytów (zmienna <tt>Class</tt> w omawianym zbiorze). \n",
    "\n",
    "\n",
    "\n",
    "<b>1.</b>   Przygotuj zbiór do dalszej analizy. (Nie normalizuj zmiennych, pamiętaj jedynie o odpowiednim zakodowaniu zmiennych jakościowych - zarówno objaśnianej jak i objaśniających) <b>(2 p.) </b>\n",
    "\n",
    "<b>2.</b> Na przygotowanych danych oszacuj model regresji logistycznej - pamiętaj o podziale zbioru na zbiór trenujący i testowy. <b>(1 p.) </b>\n",
    "\n",
    "<b>3.</b> Dla zadanego z góry progu odcięcia ($0.5$) wyznacz trafność predykcji modelu. <b> (1 p.) </b>\n",
    "\n",
    "<b>4.</b> Czy w przypadku oceny ryzyka kredytowego trafność jest odpowiednią miarą? Jeżeli nie zaproponuj inną i podaj jej wartość. Odpowiedź uzasadnij. <b> (2 p.) </b>\n",
    "\n",
    "<b>6.</b> Napisz funkcję, która zoptymalizuje próg odcięcia w zależności od  miesięcznej stopy oprocentowania $r$ (niech będzie ona parametrem wejściowym funkcji). Dla uproszczenia przyjmij, że:\n",
    "- zysk z udzielenia jednego dobrego kredytu jest równy: <tt>r \\* avg_duration * avg_amount</tt>, gdzie <tt>avg_duration</tt> oznacza przeciętną długość trwania kredytu a <tt>avg_amount</tt> jego przeciętną wielkość w zadanym zbiorze.\n",
    "\n",
    "- gdy bank nie udzieli  kredytu (źle zaklasyfikuje dobrego kredytobiorcę lub poprawnie niedobrego) nie traci ani nie zyskuje - jego wypłata jest równa 0.\n",
    "\n",
    "- strata wynikła z udzielenia złego kretytu jest równa $\\dfrac{1}{4}$ przeciętnej jego wielkości: <tt>0.25 \\* avg_duration </tt> - przyjmijmy, że  bank jest w stanie odzyskać tylko $\\dfrac{3}{4}$ pożyczonej kwoty.\n",
    "<b> (3 p.) </b>\n",
    "\n",
    "<b>7.</b> Jaki jest próg odcięcia przy założeniu, że $r = 5\\%$? Jaka jest dla tego progu wartość $F_1$-score'u? <b> (1 p.) </b>"
   ]
  }
 ],
 "metadata": {
  "kernelspec": {
   "display_name": "Julia 1.5.2",
   "language": "julia",
   "name": "julia-1.5"
  },
  "language_info": {
   "file_extension": ".jl",
   "mimetype": "application/julia",
   "name": "julia",
   "version": "1.0.0"
  }
 },
 "nbformat": 4,
 "nbformat_minor": 2
}
